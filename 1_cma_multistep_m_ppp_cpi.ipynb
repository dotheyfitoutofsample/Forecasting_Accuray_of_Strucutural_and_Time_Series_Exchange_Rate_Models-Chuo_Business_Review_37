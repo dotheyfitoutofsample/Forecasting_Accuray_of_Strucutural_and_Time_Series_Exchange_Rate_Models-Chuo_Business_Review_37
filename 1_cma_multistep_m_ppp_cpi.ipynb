{
 "cells": [
  {
   "cell_type": "markdown",
   "metadata": {},
   "source": [
    "# Classical monetary approach\n",
    "\n",
    "## purchasing power parity - consumer price index\n",
    "\n",
    "multistep: mutistpe forecast  \n",
    "m: montly data\n",
    "\n",
    "### dependent variable\n",
    "\n",
    "- \"DEXJPUS\",\"fred\"\n",
    "\n",
    "### independent variable\n",
    "\n",
    "- \"USACPIALLMINMEI\",\"fred\"\n",
    "- \"JPNCPIALLMINMEI\",\"fred\"\n"
   ]
  },
  {
   "cell_type": "code",
   "execution_count": 1,
   "metadata": {},
   "outputs": [],
   "source": [
    "%matplotlib inline\n",
    "import datetime\n",
    "import pandas_datareader.data as web\n",
    "import numpy as np\n",
    "import statsmodels.api as sm\n",
    "import matplotlib.pyplot as plt\n",
    "import pandas as pd\n",
    "from sklearn.metrics import mean_squared_error\n",
    "from scipy.stats import norm\n",
    "from statsmodels.tsa.api import VECM\n",
    "start=\"1971/1/1\";end='2019/12/31'\n",
    "from dateutil.relativedelta import relativedelta\n",
    "from scipy.stats import t\n",
    "from scipy.stats import norm\n",
    "def tcdf(x,n): #t-distribution\n",
    "    if x>=0:\n",
    "        y=(1-t.cdf(x,n))\n",
    "    else:\n",
    "        y=t.cdf(x,n)\n",
    "    return y\n",
    "def ncdf(x): #t-distribution\n",
    "    if x>=0:\n",
    "        y=(1-norm.cdf(x))\n",
    "    else:\n",
    "        y=norm.cdf(x)\n",
    "    return y"
   ]
  },
  {
   "cell_type": "code",
   "execution_count": 2,
   "metadata": {},
   "outputs": [],
   "source": [
    "e =web.DataReader(\"DEXJPUS\",\"fred\",start,end)\n",
    "p1 =web.DataReader(\"USACPIALLMINMEI\",\"fred\",start,end)#m\n",
    "p2 =web.DataReader(\"JPNCPIALLMINMEI\",\"fred\",start,end)#m\n",
    "p3 =web.DataReader(\"PPIACO\",\"fred\",start,end)#m\n",
    "p4 =web.DataReader(\"PITGCG01JPM661N\",\"fred\",start,end)#m"
   ]
  },
  {
   "cell_type": "code",
   "execution_count": 3,
   "metadata": {},
   "outputs": [
    {
     "name": "stdout",
     "output_type": "stream",
     "text": [
      "                ee         p1    p2\n",
      "DATE                               \n",
      "1971-01-01  357.72  16.792044  32.8\n",
      "1971-02-01  357.56  16.834236  32.8\n",
      "1971-03-01  357.42  16.876427  32.9\n",
      "1971-04-01  357.40  16.918618  33.3\n",
      "1971-05-01  357.40  17.003000  33.4\n",
      "                ee          p1     p2\n",
      "DATE                                 \n",
      "2019-08-01  106.30  108.244556  101.8\n",
      "2019-09-01  108.11  108.329360  101.9\n",
      "2019-10-01  108.09  108.577022  102.2\n",
      "2019-11-01  109.47  108.518798  102.3\n",
      "2019-12-01  108.67  108.420071  102.3\n"
     ]
    }
   ],
   "source": [
    "ee=e.copy().resample('MS').last()\n",
    "tsd=pd.concat([ee,p1,p2],axis=1)\n",
    "tsd.columns=['ee','p1','p2']\n",
    "print(tsd.head())\n",
    "print(tsd.tail())"
   ]
  },
  {
   "cell_type": "code",
   "execution_count": 4,
   "metadata": {},
   "outputs": [],
   "source": [
    "def backtest_ols_dp(tsd,tw,pt):#tw time window pt:predicting time\n",
    "    pred=[]\n",
    "    real0=[]\n",
    "    real9=[]\n",
    "    tsd0=np.log(tsd).copy()\n",
    "    for i in range(tw+1,len(tsd)+1-1):\n",
    "        yy=tsd0.iloc[i-tw:i:1,0]\n",
    "        y0=tsd0.iloc[i-tw-1:i:1,0].diff().dropna()\n",
    "        x0=(tsd0.iloc[i-tw-1:i:1,1]-tsd0.iloc[i-tw-1:i:1,2]).diff().dropna()\n",
    "        x0=sm.add_constant(x0.values)\n",
    "        res= sm.OLS(y0, x0).fit()\n",
    "        real0.append(np.exp(tsd0.iloc[i-1:i,0][-1]))\n",
    "        if i<len(tsd)+1-pt:\n",
    "            x9=(tsd0.iloc[i-1:i+pt:1,1]-tsd0.iloc[i-1:i+pt:1,2]).diff().dropna()\n",
    "            if pt==1:\n",
    "                x9=np.insert(x9.values,0,1)\n",
    "            else:\n",
    "                x9=sm.add_constant(x9.values)\n",
    "            pred0=res.predict(x9)[-1:]\n",
    "            pred.append(np.exp(pred0+yy.iloc[-1]))\n",
    "            real9.append(np.exp(tsd0.iloc[i+pt-1:i+pt:1,0].values))\n",
    "    return real0,real9,pred\n",
    "\n",
    "def performance_eval(real0,real9,pred):\n",
    "    p0=pd.DataFrame(real0)\n",
    "    p9=pd.DataFrame(real9)\n",
    "    pp=pd.DataFrame(pred)\n",
    "    p0_=p0[:len(p9)]\n",
    "    pp_=pp[:len(p9)]\n",
    "    wrs=p0_[(p9<p0_)&(pp_<p0_)].count()\n",
    "    wrl=p0_[(p9>p0_)&(pp_>p0_)].count()\n",
    "    wr=float((wrs+wrl)/p0_.count())\n",
    "    #wrp=tcdf(float((wr-0.5)/np.sqrt(0.25/p0_.count())),p0_.count())[0]\n",
    "    wrp=ncdf(float((wr-0.5)/np.sqrt(0.25/p0_.count())))\n",
    "    d_x=(pp_-p9)**2\n",
    "    d_rw=(p9-p0_)**2\n",
    "    d=d_x-d_rw\n",
    "    d_=float(d.mean())\n",
    "    #dm=tcdf(float(d_/np.sqrt(((d-d_)**2).sum()/len(d)**2)),p0_.count())[0]\n",
    "    dm=ncdf(float(d_/np.sqrt(((d-d_)**2).sum()/len(d)**2)))\n",
    "    rmse=float(d_x.mean()/d_rw.mean())\n",
    "    return rmse,dm,wr,wrp\n",
    "\n",
    "def performance_report(real0,real9,pred):\n",
    "    ab,dm,wr,wrp=performance_eval(real0,real9,pred)\n",
    "    print('{0:20s}{1:5d} mse_r {2:7.4f} mse_p {3:7.2f} wr {4:7.4f} wrp {5:7.2f} len {6:4d}'\n",
    "          .format(model,isp,ab,dm,wr,wrp,len(real9)))    "
   ]
  },
  {
   "cell_type": "code",
   "execution_count": 5,
   "metadata": {},
   "outputs": [
    {
     "name": "stdout",
     "output_type": "stream",
     "text": [
      "first difference OLS   30 mse_r  0.9782 mse_p    0.18 wr  0.4857 wrp    0.37 len  140\n",
      "first difference OLS   36 mse_r  0.9658 mse_p    0.05 wr  0.4786 wrp    0.31 len  140\n",
      "first difference OLS   42 mse_r  0.9861 mse_p    0.22 wr  0.5000 wrp    0.50 len  140\n",
      "first difference OLS   48 mse_r  1.0013 mse_p    0.47 wr  0.5214 wrp    0.31 len  140\n",
      "first difference OLS   54 mse_r  1.0103 mse_p    0.26 wr  0.5000 wrp    0.50 len  140\n",
      "first difference OLS   60 mse_r  1.0022 mse_p    0.44 wr  0.5214 wrp    0.31 len  140\n",
      "first difference OLS   66 mse_r  0.9799 mse_p    0.06 wr  0.5714 wrp    0.05 len  140\n",
      "first difference OLS   72 mse_r  0.9840 mse_p    0.10 wr  0.5714 wrp    0.05 len  140\n",
      "first difference OLS   78 mse_r  0.9963 mse_p    0.38 wr  0.5429 wrp    0.16 len  140\n",
      "first difference OLS   84 mse_r  1.0008 mse_p    0.47 wr  0.5143 wrp    0.37 len  140\n",
      "first difference OLS   90 mse_r  0.9842 mse_p    0.06 wr  0.5571 wrp    0.09 len  140\n",
      "first difference OLS   96 mse_r  0.9763 mse_p    0.01 wr  0.5786 wrp    0.03 len  140\n",
      "first difference OLS  102 mse_r  0.9695 mse_p    0.00 wr  0.5929 wrp    0.01 len  140\n",
      "first difference OLS  108 mse_r  0.9701 mse_p    0.00 wr  0.5929 wrp    0.01 len  140\n",
      "first difference OLS  114 mse_r  0.9649 mse_p    0.00 wr  0.5929 wrp    0.01 len  140\n",
      "first difference OLS  120 mse_r  0.9672 mse_p    0.00 wr  0.5857 wrp    0.02 len  140\n",
      "first difference OLS  126 mse_r  0.9684 mse_p    0.00 wr  0.5857 wrp    0.02 len  140\n",
      "first difference OLS  132 mse_r  0.9712 mse_p    0.00 wr  0.6000 wrp    0.01 len  140\n",
      "first difference OLS  138 mse_r  0.9775 mse_p    0.01 wr  0.5786 wrp    0.03 len  140\n",
      "first difference OLS  144 mse_r  0.9818 mse_p    0.03 wr  0.5929 wrp    0.01 len  140\n"
     ]
    }
   ],
   "source": [
    "pstart=datetime.date(1983,1,1)\n",
    "pend=datetime.date(1994,12,31)        \n",
    "model='first difference OLS'\n",
    "oosp=3\n",
    "nn=len(tsd.loc[pstart:pend])\n",
    "for isp in range(oosp*10,oosp*50,6):#10,pt):\n",
    "    ps=pstart-relativedelta(months=isp*1-1)\n",
    "    tsdd=tsd.loc[ps:pend]\n",
    "    if (len(tsdd)-isp==nn) or (len(tsdd)-isp==nn-1):\n",
    "        real0,real9,pred=backtest_ols_dp(tsdd,isp,oosp)\n",
    "        performance_report(real0,real9,pred)"
   ]
  },
  {
   "cell_type": "code",
   "execution_count": 6,
   "metadata": {},
   "outputs": [
    {
     "name": "stdout",
     "output_type": "stream",
     "text": [
      "first difference OLS   30 mse_r  1.0557 mse_p    0.01 wr  0.4671 wrp    0.21 len  152\n",
      "first difference OLS   42 mse_r  1.0481 mse_p    0.03 wr  0.4671 wrp    0.21 len  152\n",
      "first difference OLS   54 mse_r  1.0367 mse_p    0.02 wr  0.4868 wrp    0.37 len  152\n",
      "first difference OLS   66 mse_r  1.0233 mse_p    0.03 wr  0.4737 wrp    0.26 len  152\n",
      "first difference OLS   78 mse_r  1.0174 mse_p    0.07 wr  0.4474 wrp    0.10 len  152\n",
      "first difference OLS   90 mse_r  1.0230 mse_p    0.02 wr  0.4934 wrp    0.44 len  152\n",
      "first difference OLS  102 mse_r  1.0176 mse_p    0.04 wr  0.4803 wrp    0.31 len  152\n",
      "first difference OLS  114 mse_r  1.0177 mse_p    0.04 wr  0.4539 wrp    0.13 len  152\n",
      "first difference OLS  126 mse_r  1.0243 mse_p    0.01 wr  0.4539 wrp    0.13 len  152\n",
      "first difference OLS  138 mse_r  1.0197 mse_p    0.04 wr  0.4671 wrp    0.21 len  152\n"
     ]
    }
   ],
   "source": [
    "pstart=datetime.date(1995,1,1)\n",
    "pend=datetime.date(2007,12,31)        \n",
    "model='first difference OLS'\n",
    "oosp=3\n",
    "nn=len(tsd.loc[pstart:pend])\n",
    "for isp in range(oosp*10,oosp*50,12):#10,pt):\n",
    "    ps=pstart-relativedelta(months=isp*1-1)\n",
    "    tsdd=tsd.loc[ps:pend]\n",
    "    if (len(tsdd)-isp==nn) or (len(tsdd)-isp==nn-1):\n",
    "        real0,real9,pred=backtest_ols_dp(tsdd,isp,oosp)\n",
    "        performance_report(real0,real9,pred)"
   ]
  },
  {
   "cell_type": "code",
   "execution_count": 7,
   "metadata": {},
   "outputs": [
    {
     "name": "stdout",
     "output_type": "stream",
     "text": [
      "first difference OLS   30 mse_r  1.0213 mse_p    0.22 wr  0.5214 wrp    0.31 len  140\n",
      "first difference OLS   42 mse_r  1.0325 mse_p    0.10 wr  0.5357 wrp    0.20 len  140\n",
      "first difference OLS   54 mse_r  1.0361 mse_p    0.04 wr  0.5286 wrp    0.25 len  140\n",
      "first difference OLS   66 mse_r  1.0330 mse_p    0.02 wr  0.4929 wrp    0.43 len  140\n",
      "first difference OLS   78 mse_r  1.0323 mse_p    0.01 wr  0.5000 wrp    0.50 len  140\n",
      "first difference OLS   90 mse_r  1.0255 mse_p    0.01 wr  0.5000 wrp    0.50 len  140\n",
      "first difference OLS  102 mse_r  1.0151 mse_p    0.06 wr  0.5286 wrp    0.25 len  140\n",
      "first difference OLS  114 mse_r  1.0210 mse_p    0.01 wr  0.4857 wrp    0.37 len  140\n",
      "first difference OLS  126 mse_r  1.0116 mse_p    0.21 wr  0.4286 wrp    0.05 len  140\n",
      "first difference OLS  138 mse_r  1.0139 mse_p    0.13 wr  0.4786 wrp    0.31 len  140\n"
     ]
    }
   ],
   "source": [
    "pstart=datetime.date(2008,1,1)\n",
    "pend=datetime.date(2020,12,31)        \n",
    "model='first difference OLS'\n",
    "oosp=3\n",
    "nn=len(tsd.loc[pstart:pend])\n",
    "for isp in range(oosp*10,oosp*50,12):#10,pt):\n",
    "    ps=pstart-relativedelta(months=isp*1-1)\n",
    "    tsdd=tsd.loc[ps:pend]\n",
    "    if (len(tsdd)-isp==nn) or (len(tsdd)-isp==nn-1):\n",
    "        real0,real9,pred=backtest_ols_dp(tsdd,isp,oosp)\n",
    "        performance_report(real0,real9,pred)"
   ]
  },
  {
   "cell_type": "code",
   "execution_count": 8,
   "metadata": {},
   "outputs": [
    {
     "name": "stdout",
     "output_type": "stream",
     "text": [
      "first difference OLS  120 mse_r  0.9799 mse_p    0.00 wr  0.7710 wrp    0.00 len  131\n",
      "first difference OLS  126 mse_r  0.9809 mse_p    0.00 wr  0.7786 wrp    0.00 len  131\n",
      "first difference OLS  132 mse_r  0.9839 mse_p    0.00 wr  0.7634 wrp    0.00 len  131\n",
      "first difference OLS  138 mse_r  0.9872 mse_p    0.00 wr  0.7328 wrp    0.00 len  131\n",
      "first difference OLS  144 mse_r  0.9876 mse_p    0.00 wr  0.7481 wrp    0.00 len  131\n"
     ]
    }
   ],
   "source": [
    "pstart=datetime.date(1983,1,1)\n",
    "pend=datetime.date(1994,12,31)        \n",
    "model='first difference OLS'\n",
    "oosp=12\n",
    "nn=len(tsd.loc[pstart:pend])\n",
    "for isp in range(oosp*10,oosp*50,6):#10,pt):\n",
    "    ps=pstart-relativedelta(months=isp*1-1)\n",
    "    tsdd=tsd.loc[ps:pend]\n",
    "    if (len(tsdd)-isp==nn) or (len(tsdd)-isp==nn-1):\n",
    "        real0,real9,pred=backtest_ols_dp(tsdd,isp,oosp)\n",
    "        performance_report(real0,real9,pred)"
   ]
  },
  {
   "cell_type": "code",
   "execution_count": 9,
   "metadata": {},
   "outputs": [
    {
     "name": "stdout",
     "output_type": "stream",
     "text": [
      "first difference OLS  120 mse_r  1.0323 mse_p    0.00 wr  0.3706 wrp    0.00 len  143\n",
      "first difference OLS  132 mse_r  1.0326 mse_p    0.00 wr  0.4545 wrp    0.14 len  143\n",
      "first difference OLS  144 mse_r  1.0286 mse_p    0.00 wr  0.4895 wrp    0.40 len  143\n",
      "first difference OLS  156 mse_r  1.0218 mse_p    0.00 wr  0.4895 wrp    0.40 len  143\n",
      "first difference OLS  168 mse_r  1.0204 mse_p    0.00 wr  0.4476 wrp    0.10 len  143\n",
      "first difference OLS  180 mse_r  1.0245 mse_p    0.00 wr  0.4056 wrp    0.01 len  143\n",
      "first difference OLS  192 mse_r  1.0191 mse_p    0.00 wr  0.4266 wrp    0.04 len  143\n",
      "first difference OLS  204 mse_r  1.0152 mse_p    0.00 wr  0.4476 wrp    0.10 len  143\n",
      "first difference OLS  216 mse_r  1.0147 mse_p    0.00 wr  0.4615 wrp    0.18 len  143\n",
      "first difference OLS  228 mse_r  1.0163 mse_p    0.00 wr  0.4545 wrp    0.14 len  143\n",
      "first difference OLS  240 mse_r  1.0203 mse_p    0.00 wr  0.3916 wrp    0.00 len  143\n",
      "first difference OLS  252 mse_r  1.0168 mse_p    0.00 wr  0.3846 wrp    0.00 len  143\n",
      "first difference OLS  264 mse_r  1.0128 mse_p    0.01 wr  0.4126 wrp    0.02 len  143\n",
      "first difference OLS  276 mse_r  1.0125 mse_p    0.01 wr  0.3986 wrp    0.01 len  143\n",
      "first difference OLS  288 mse_r  1.0138 mse_p    0.00 wr  0.3986 wrp    0.01 len  143\n"
     ]
    }
   ],
   "source": [
    "pstart=datetime.date(1995,1,1)\n",
    "pend=datetime.date(2007,12,31)        \n",
    "model='first difference OLS'\n",
    "oosp=12\n",
    "nn=len(tsd.loc[pstart:pend])\n",
    "for isp in range(oosp*10,oosp*50,12):#10,pt):\n",
    "    ps=pstart-relativedelta(months=isp*1-1)\n",
    "    tsdd=tsd.loc[ps:pend]\n",
    "    if (len(tsdd)-isp==nn) or (len(tsdd)-isp==nn-1):\n",
    "        real0,real9,pred=backtest_ols_dp(tsdd,isp,oosp)\n",
    "        performance_report(real0,real9,pred)"
   ]
  },
  {
   "cell_type": "code",
   "execution_count": 10,
   "metadata": {},
   "outputs": [
    {
     "name": "stdout",
     "output_type": "stream",
     "text": [
      "first difference OLS  120 mse_r  1.0217 mse_p    0.00 wr  0.4122 wrp    0.02 len  131\n",
      "first difference OLS  144 mse_r  1.0204 mse_p    0.00 wr  0.3893 wrp    0.01 len  131\n",
      "first difference OLS  168 mse_r  1.0239 mse_p    0.00 wr  0.3893 wrp    0.01 len  131\n",
      "first difference OLS  192 mse_r  1.0236 mse_p    0.00 wr  0.4427 wrp    0.10 len  131\n",
      "first difference OLS  216 mse_r  1.0124 mse_p    0.01 wr  0.4427 wrp    0.10 len  131\n",
      "first difference OLS  240 mse_r  1.0164 mse_p    0.00 wr  0.4656 wrp    0.22 len  131\n",
      "first difference OLS  264 mse_r  1.0187 mse_p    0.00 wr  0.4046 wrp    0.01 len  131\n",
      "first difference OLS  288 mse_r  1.0115 mse_p    0.02 wr  0.4733 wrp    0.27 len  131\n",
      "first difference OLS  312 mse_r  1.0106 mse_p    0.03 wr  0.5344 wrp    0.22 len  131\n",
      "first difference OLS  336 mse_r  1.0163 mse_p    0.00 wr  0.5115 wrp    0.40 len  131\n",
      "first difference OLS  360 mse_r  1.0148 mse_p    0.01 wr  0.5267 wrp    0.27 len  131\n",
      "first difference OLS  384 mse_r  1.0109 mse_p    0.02 wr  0.5725 wrp    0.05 len  131\n",
      "first difference OLS  408 mse_r  1.0091 mse_p    0.04 wr  0.5573 wrp    0.10 len  131\n",
      "first difference OLS  432 mse_r  1.0099 mse_p    0.03 wr  0.5649 wrp    0.07 len  131\n"
     ]
    }
   ],
   "source": [
    "pstart=datetime.date(2008,1,1)\n",
    "pend=datetime.date(2020,12,31)        \n",
    "model='first difference OLS'\n",
    "oosp=12\n",
    "nn=len(tsd.loc[pstart:pend])\n",
    "for isp in range(oosp*10,oosp*50,24):#10,pt):\n",
    "    ps=pstart-relativedelta(months=isp*1-1)\n",
    "    tsdd=tsd.loc[ps:pend]\n",
    "    if (len(tsdd)-isp==nn) or (len(tsdd)-isp==nn-1):\n",
    "        real0,real9,pred=backtest_ols_dp(tsdd,isp,oosp)\n",
    "        performance_report(real0,real9,pred)"
   ]
  },
  {
   "cell_type": "code",
   "execution_count": 11,
   "metadata": {},
   "outputs": [
    {
     "name": "stdout",
     "output_type": "stream",
     "text": [
      "first difference OLS   60 mse_r  0.9987 mse_p    0.23 wr  0.6386 wrp    0.01 len   83\n",
      "first difference OLS   72 mse_r  0.9958 mse_p    0.01 wr  0.7711 wrp    0.00 len   83\n",
      "first difference OLS   84 mse_r  0.9910 mse_p    0.00 wr  0.8193 wrp    0.00 len   83\n",
      "first difference OLS   96 mse_r  0.9876 mse_p    0.00 wr  0.9759 wrp    0.00 len   83\n",
      "first difference OLS  108 mse_r  0.9872 mse_p    0.00 wr  0.9759 wrp    0.00 len   83\n",
      "first difference OLS  120 mse_r  0.9886 mse_p    0.00 wr  0.9880 wrp    0.00 len   83\n",
      "first difference OLS  132 mse_r  0.9888 mse_p    0.00 wr  0.9518 wrp    0.00 len   83\n",
      "first difference OLS  144 mse_r  0.9869 mse_p    0.00 wr  0.9518 wrp    0.00 len   83\n"
     ]
    }
   ],
   "source": [
    "pstart=datetime.date(1983,1,1)\n",
    "pend=datetime.date(1994,12,31)        \n",
    "model='first difference OLS'\n",
    "oosp=60\n",
    "nn=len(tsd.loc[pstart:pend])\n",
    "for isp in range(oosp*1,oosp*50,12):#10,pt):\n",
    "    ps=pstart-relativedelta(months=isp*1-1)\n",
    "    tsdd=tsd.loc[ps:pend]\n",
    "    if (len(tsdd)-isp==nn) or (len(tsdd)-isp==nn-1):\n",
    "        real0,real9,pred=backtest_ols_dp(tsdd,isp,oosp)\n",
    "        performance_report(real0,real9,pred)"
   ]
  },
  {
   "cell_type": "code",
   "execution_count": 12,
   "metadata": {},
   "outputs": [
    {
     "name": "stdout",
     "output_type": "stream",
     "text": [
      "first difference OLS   60 mse_r  1.0649 mse_p    0.00 wr  0.2737 wrp    0.00 len   95\n",
      "first difference OLS   84 mse_r  1.0387 mse_p    0.00 wr  0.3053 wrp    0.00 len   95\n",
      "first difference OLS  108 mse_r  1.0280 mse_p    0.00 wr  0.3789 wrp    0.01 len   95\n",
      "first difference OLS  132 mse_r  1.0438 mse_p    0.00 wr  0.2842 wrp    0.00 len   95\n",
      "first difference OLS  156 mse_r  1.0245 mse_p    0.00 wr  0.4105 wrp    0.04 len   95\n",
      "first difference OLS  180 mse_r  1.0160 mse_p    0.02 wr  0.4211 wrp    0.06 len   95\n",
      "first difference OLS  204 mse_r  1.0061 mse_p    0.18 wr  0.4737 wrp    0.30 len   95\n",
      "first difference OLS  228 mse_r  1.0116 mse_p    0.05 wr  0.4632 wrp    0.24 len   95\n",
      "first difference OLS  252 mse_r  1.0102 mse_p    0.07 wr  0.4737 wrp    0.30 len   95\n",
      "first difference OLS  276 mse_r  1.0074 mse_p    0.14 wr  0.4737 wrp    0.30 len   95\n"
     ]
    }
   ],
   "source": [
    "pstart=datetime.date(1995,1,1)\n",
    "pend=datetime.date(2007,12,31)        \n",
    "model='first difference OLS'\n",
    "oosp=60\n",
    "nn=len(tsd.loc[pstart:pend])\n",
    "for isp in range(oosp*1,oosp*50,24):#10,pt):\n",
    "    ps=pstart-relativedelta(months=isp*1-1)\n",
    "    tsdd=tsd.loc[ps:pend]\n",
    "    if (len(tsdd)-isp==nn) or (len(tsdd)-isp==nn-1):\n",
    "        real0,real9,pred=backtest_ols_dp(tsdd,isp,oosp)\n",
    "        performance_report(real0,real9,pred)"
   ]
  },
  {
   "cell_type": "code",
   "execution_count": 13,
   "metadata": {},
   "outputs": [
    {
     "name": "stdout",
     "output_type": "stream",
     "text": [
      "first difference OLS   60 mse_r  1.0363 mse_p    0.00 wr  0.3253 wrp    0.00 len   83\n",
      "first difference OLS   96 mse_r  1.0267 mse_p    0.00 wr  0.2892 wrp    0.00 len   83\n",
      "first difference OLS  132 mse_r  1.0222 mse_p    0.00 wr  0.2651 wrp    0.00 len   83\n",
      "first difference OLS  168 mse_r  1.0194 mse_p    0.00 wr  0.3494 wrp    0.00 len   83\n",
      "first difference OLS  204 mse_r  1.0130 mse_p    0.00 wr  0.3735 wrp    0.01 len   83\n",
      "first difference OLS  240 mse_r  1.0170 mse_p    0.00 wr  0.3735 wrp    0.01 len   83\n",
      "first difference OLS  276 mse_r  1.0160 mse_p    0.00 wr  0.3012 wrp    0.00 len   83\n",
      "first difference OLS  312 mse_r  1.0209 mse_p    0.00 wr  0.2530 wrp    0.00 len   83\n",
      "first difference OLS  348 mse_r  1.0207 mse_p    0.00 wr  0.1687 wrp    0.00 len   83\n",
      "first difference OLS  384 mse_r  1.0181 mse_p    0.00 wr  0.1687 wrp    0.00 len   83\n",
      "first difference OLS  420 mse_r  1.0190 mse_p    0.00 wr  0.1566 wrp    0.00 len   83\n"
     ]
    }
   ],
   "source": [
    "pstart=datetime.date(2008,1,1)\n",
    "pend=datetime.date(2020,12,31)        \n",
    "model='first difference OLS'\n",
    "oosp=60\n",
    "nn=len(tsd.loc[pstart:pend])\n",
    "for isp in range(oosp*1,oosp*50,36):#10,pt):\n",
    "    ps=pstart-relativedelta(months=isp*1-1)\n",
    "    tsdd=tsd.loc[ps:pend]\n",
    "    if (len(tsdd)-isp==nn) or (len(tsdd)-isp==nn-1):\n",
    "        real0,real9,pred=backtest_ols_dp(tsdd,isp,oosp)\n",
    "        performance_report(real0,real9,pred)"
   ]
  },
  {
   "cell_type": "code",
   "execution_count": 14,
   "metadata": {},
   "outputs": [],
   "source": [
    "def backtest_VECM(tsd,tw,pt,det):#tw time window pt:predicting time\n",
    "    pred=[]\n",
    "    real0=[]\n",
    "    real9=[]\n",
    "    tsd0=np.log(tsd.copy())\n",
    "    for i in range(tw,len(tsd)+1):\n",
    "        y0=(tsd0.iloc[i-tw:i:1,0])\n",
    "        x=tsd0.iloc[i-tw:i:1,1]-tsd0.iloc[i-tw:i:1,2]\n",
    "        tsd00=pd.concat([y0,x],axis=1)\n",
    "        model = VECM(tsd00,k_ar_diff=0,deterministic=det)\n",
    "        results = model.fit() \n",
    "        real0.append(np.exp(y0.iloc[-1]))\n",
    "        pp=np.exp(results.predict(pt)[-1][0])\n",
    "        pred.append(pp)\n",
    "        if i<len(tsd)+1-pt:\n",
    "            real9.append(tsd.iloc[i+pt-1,0])\n",
    "    return real0,real9,pred"
   ]
  },
  {
   "cell_type": "code",
   "execution_count": 15,
   "metadata": {},
   "outputs": [
    {
     "name": "stdout",
     "output_type": "stream",
     "text": [
      "VECM                   60 mse_r  1.2620 mse_p    0.00 wr  0.4184 wrp    0.03 len  141\n",
      "VECM                   75 mse_r  1.0635 mse_p    0.06 wr  0.4823 wrp    0.34 len  141\n",
      "VECM                   90 mse_r  1.0361 mse_p    0.05 wr  0.5177 wrp    0.34 len  141\n",
      "VECM                  105 mse_r  0.9211 mse_p    0.00 wr  0.5674 wrp    0.05 len  141\n",
      "VECM                  120 mse_r  0.8922 mse_p    0.01 wr  0.5887 wrp    0.02 len  141\n",
      "VECM                  135 mse_r  0.8992 mse_p    0.02 wr  0.6099 wrp    0.00 len  141\n"
     ]
    }
   ],
   "source": [
    "pstart=datetime.date(1983,1,1)\n",
    "pend=datetime.date(1994,12,31)        \n",
    "nn=len(tsd.loc[pstart:pend])\n",
    "interval=1\n",
    "model='VECM'\n",
    "oosp=3\n",
    "for isp in range(oosp*20,oosp*200,oosp*5):#10,pt):\n",
    "    ps=pstart-relativedelta(months=isp*interval-1)\n",
    "    tsdd=tsd.loc[ps:pend]\n",
    "    if (len(tsdd)-isp==nn) or (len(tsdd)-isp==nn-1):\n",
    "        real0,real9,pred=backtest_VECM(tsdd,isp,oosp,'li')\n",
    "        performance_report(real0,real9,pred)"
   ]
  },
  {
   "cell_type": "code",
   "execution_count": 16,
   "metadata": {},
   "outputs": [
    {
     "name": "stdout",
     "output_type": "stream",
     "text": [
      "VECM                   60 mse_r  1.1100 mse_p    0.01 wr  0.4379 wrp    0.06 len  153\n",
      "VECM                   90 mse_r  1.0454 mse_p    0.00 wr  0.3856 wrp    0.00 len  153\n",
      "VECM                  120 mse_r  1.0366 mse_p    0.01 wr  0.4118 wrp    0.01 len  153\n",
      "VECM                  150 mse_r  1.0417 mse_p    0.00 wr  0.3791 wrp    0.00 len  153\n",
      "VECM                  180 mse_r  1.0416 mse_p    0.00 wr  0.4118 wrp    0.01 len  153\n",
      "VECM                  210 mse_r  1.0113 mse_p    0.24 wr  0.4183 wrp    0.02 len  153\n",
      "VECM                  240 mse_r  1.0366 mse_p    0.02 wr  0.4183 wrp    0.02 len  153\n",
      "VECM                  270 mse_r  1.0432 mse_p    0.03 wr  0.4183 wrp    0.02 len  153\n"
     ]
    }
   ],
   "source": [
    "pstart=datetime.date(1995,1,1)\n",
    "pend=datetime.date(2007,12,31)        \n",
    "nn=len(tsd.loc[pstart:pend])\n",
    "interval=1\n",
    "model='VECM'\n",
    "oosp=3\n",
    "for isp in range(oosp*20,oosp*200,oosp*10):#10,pt):\n",
    "    ps=pstart-relativedelta(months=isp*interval-1)\n",
    "    tsdd=tsd.loc[ps:pend]\n",
    "    if (len(tsdd)-isp==nn) or (len(tsdd)-isp==nn-1):\n",
    "        real0,real9,pred=backtest_VECM(tsdd,isp,oosp,'na')\n",
    "        performance_report(real0,real9,pred)"
   ]
  },
  {
   "cell_type": "code",
   "execution_count": 17,
   "metadata": {},
   "outputs": [
    {
     "name": "stdout",
     "output_type": "stream",
     "text": [
      "VECM                   60 mse_r  1.0517 mse_p    0.00 wr  0.4752 wrp    0.28 len  141\n",
      "VECM                   90 mse_r  1.0303 mse_p    0.04 wr  0.5177 wrp    0.34 len  141\n",
      "VECM                  120 mse_r  1.0182 mse_p    0.06 wr  0.4681 wrp    0.22 len  141\n",
      "VECM                  150 mse_r  1.0115 mse_p    0.10 wr  0.4752 wrp    0.28 len  141\n",
      "VECM                  180 mse_r  1.0172 mse_p    0.02 wr  0.5106 wrp    0.40 len  141\n",
      "VECM                  210 mse_r  0.9943 mse_p    0.29 wr  0.4965 wrp    0.47 len  141\n",
      "VECM                  240 mse_r  0.9998 mse_p    0.49 wr  0.5603 wrp    0.08 len  141\n",
      "VECM                  270 mse_r  1.0188 mse_p    0.10 wr  0.4965 wrp    0.47 len  141\n",
      "VECM                  300 mse_r  0.9976 mse_p    0.45 wr  0.5177 wrp    0.34 len  141\n",
      "VECM                  330 mse_r  1.0174 mse_p    0.19 wr  0.5035 wrp    0.47 len  141\n",
      "VECM                  360 mse_r  1.0355 mse_p    0.03 wr  0.5035 wrp    0.47 len  141\n",
      "VECM                  390 mse_r  1.0206 mse_p    0.17 wr  0.5035 wrp    0.47 len  141\n",
      "VECM                  420 mse_r  1.0043 mse_p    0.42 wr  0.5035 wrp    0.47 len  141\n"
     ]
    }
   ],
   "source": [
    "pstart=datetime.date(2008,1,1)\n",
    "pend=datetime.date(2020,12,31)        \n",
    "nn=len(tsd.loc[pstart:pend])\n",
    "interval=1\n",
    "model='VECM'\n",
    "oosp=3\n",
    "for isp in range(oosp*20,oosp*200,oosp*10):#10,pt):\n",
    "    ps=pstart-relativedelta(months=isp*interval-1)\n",
    "    tsdd=tsd.loc[ps:pend]\n",
    "    if (len(tsdd)-isp==nn) or (len(tsdd)-isp==nn-1):\n",
    "        real0,real9,pred=backtest_VECM(tsdd,isp,oosp,'na')\n",
    "        performance_report(real0,real9,pred)"
   ]
  },
  {
   "cell_type": "code",
   "execution_count": 18,
   "metadata": {},
   "outputs": [
    {
     "data": {
      "text/plain": [
       "(144, 141, 144)"
      ]
     },
     "execution_count": 18,
     "metadata": {},
     "output_type": "execute_result"
    },
    {
     "data": {
      "image/png": "[encoded data removed]",
      "text/plain": [
       "<Figure size 432x288 with 1 Axes>"
      ]
     },
     "metadata": {
      "needs_background": "light"
     },
     "output_type": "display_data"
    }
   ],
   "source": [
    "plt.plot(real0[:],label='c')\n",
    "plt.plot(real9[:],label='c9')\n",
    "plt.plot(pred[:],label='pred')\n",
    "plt.legend()\n",
    "len(real0),len(real9),len(pred)"
   ]
  },
  {
   "cell_type": "code",
   "execution_count": 19,
   "metadata": {},
   "outputs": [
    {
     "name": "stdout",
     "output_type": "stream",
     "text": [
      "VECM                   24 mse_r  1.4657 mse_p    0.00 wr  0.4470 wrp    0.11 len  132\n",
      "VECM                   48 mse_r  1.5253 mse_p    0.00 wr  0.2879 wrp    0.00 len  132\n",
      "VECM                   72 mse_r  1.2282 mse_p    0.00 wr  0.5985 wrp    0.01 len  132\n",
      "VECM                   96 mse_r  0.9060 mse_p    0.00 wr  0.6818 wrp    0.00 len  132\n",
      "VECM                  120 mse_r  0.7821 mse_p    0.00 wr  0.8030 wrp    0.00 len  132\n",
      "VECM                  144 mse_r  0.8688 mse_p    0.01 wr  0.6970 wrp    0.00 len  132\n"
     ]
    }
   ],
   "source": [
    "pstart=datetime.date(1983,1,1)\n",
    "pend=datetime.date(1994,12,31)        \n",
    "nn=len(tsd.loc[pstart:pend])\n",
    "interval=1\n",
    "model='VECM'\n",
    "oosp=12\n",
    "for isp in range(oosp*2,oosp*200,oosp*2):#10,pt):\n",
    "    ps=pstart-relativedelta(months=isp*interval-1)\n",
    "    tsdd=tsd.loc[ps:pend]\n",
    "    if (len(tsdd)-isp==nn) or (len(tsdd)-isp==nn-1):\n",
    "        real0,real9,pred=backtest_VECM(tsdd,isp,oosp,'li')\n",
    "        performance_report(real0,real9,pred)"
   ]
  },
  {
   "cell_type": "code",
   "execution_count": 20,
   "metadata": {},
   "outputs": [
    {
     "name": "stdout",
     "output_type": "stream",
     "text": [
      "VECM                   24 mse_r  2.1127 mse_p    0.00 wr  0.4514 wrp    0.12 len  144\n",
      "VECM                   36 mse_r  2.0091 mse_p    0.00 wr  0.3264 wrp    0.00 len  144\n",
      "VECM                   48 mse_r  1.6453 mse_p    0.00 wr  0.2986 wrp    0.00 len  144\n",
      "VECM                   60 mse_r  1.4289 mse_p    0.00 wr  0.4653 wrp    0.20 len  144\n",
      "VECM                   72 mse_r  1.4469 mse_p    0.00 wr  0.4167 wrp    0.02 len  144\n",
      "VECM                   84 mse_r  1.3302 mse_p    0.00 wr  0.2917 wrp    0.00 len  144\n",
      "VECM                   96 mse_r  1.2366 mse_p    0.00 wr  0.2431 wrp    0.00 len  144\n",
      "VECM                  108 mse_r  1.1765 mse_p    0.00 wr  0.2431 wrp    0.00 len  144\n",
      "VECM                  120 mse_r  1.1992 mse_p    0.00 wr  0.4306 wrp    0.05 len  144\n",
      "VECM                  132 mse_r  1.2180 mse_p    0.00 wr  0.4514 wrp    0.12 len  144\n",
      "VECM                  144 mse_r  1.1952 mse_p    0.00 wr  0.4514 wrp    0.12 len  144\n",
      "VECM                  156 mse_r  1.2278 mse_p    0.00 wr  0.3472 wrp    0.00 len  144\n",
      "VECM                  168 mse_r  1.2278 mse_p    0.00 wr  0.3750 wrp    0.00 len  144\n",
      "VECM                  180 mse_r  1.2104 mse_p    0.00 wr  0.4097 wrp    0.02 len  144\n",
      "VECM                  192 mse_r  1.1451 mse_p    0.00 wr  0.4097 wrp    0.02 len  144\n",
      "VECM                  204 mse_r  1.0651 mse_p    0.03 wr  0.4167 wrp    0.02 len  144\n",
      "VECM                  216 mse_r  1.0862 mse_p    0.01 wr  0.4097 wrp    0.02 len  144\n",
      "VECM                  228 mse_r  1.1324 mse_p    0.00 wr  0.4097 wrp    0.02 len  144\n",
      "VECM                  240 mse_r  1.2084 mse_p    0.00 wr  0.4097 wrp    0.02 len  144\n",
      "VECM                  252 mse_r  1.2481 mse_p    0.00 wr  0.4097 wrp    0.02 len  144\n",
      "VECM                  264 mse_r  1.2308 mse_p    0.00 wr  0.4097 wrp    0.02 len  144\n",
      "VECM                  276 mse_r  1.2493 mse_p    0.00 wr  0.4097 wrp    0.02 len  144\n",
      "VECM                  288 mse_r  1.2914 mse_p    0.00 wr  0.4097 wrp    0.02 len  144\n"
     ]
    }
   ],
   "source": [
    "pstart=datetime.date(1995,1,1)\n",
    "pend=datetime.date(2007,12,31)        \n",
    "nn=len(tsd.loc[pstart:pend])\n",
    "interval=1\n",
    "model='VECM'\n",
    "oosp=12\n",
    "for isp in range(oosp*2,oosp*200,oosp*1):#10,pt):\n",
    "    ps=pstart-relativedelta(months=isp*interval-1)\n",
    "    tsdd=tsd.loc[ps:pend]\n",
    "    if (len(tsdd)-isp==nn) or (len(tsdd)-isp==nn-1):\n",
    "        real0,real9,pred=backtest_VECM(tsdd,isp,oosp,'na')\n",
    "        performance_report(real0,real9,pred)"
   ]
  },
  {
   "cell_type": "code",
   "execution_count": 21,
   "metadata": {},
   "outputs": [
    {
     "name": "stdout",
     "output_type": "stream",
     "text": [
      "VECM                   24 mse_r  2.6020 mse_p    0.00 wr  0.5455 wrp    0.15 len  132\n",
      "VECM                   48 mse_r  1.5887 mse_p    0.00 wr  0.4394 wrp    0.08 len  132\n",
      "VECM                   72 mse_r  1.1616 mse_p    0.00 wr  0.4848 wrp    0.36 len  132\n",
      "VECM                   96 mse_r  1.1170 mse_p    0.00 wr  0.4545 wrp    0.15 len  132\n",
      "VECM                  120 mse_r  1.0857 mse_p    0.00 wr  0.4848 wrp    0.36 len  132\n",
      "VECM                  144 mse_r  1.0501 mse_p    0.01 wr  0.5227 wrp    0.30 len  132\n",
      "VECM                  168 mse_r  1.0511 mse_p    0.01 wr  0.5000 wrp    0.50 len  132\n",
      "VECM                  192 mse_r  1.0785 mse_p    0.00 wr  0.5152 wrp    0.36 len  132\n",
      "VECM                  216 mse_r  0.9726 mse_p    0.07 wr  0.6136 wrp    0.00 len  132\n",
      "VECM                  240 mse_r  1.0295 mse_p    0.12 wr  0.5227 wrp    0.30 len  132\n",
      "VECM                  264 mse_r  1.0724 mse_p    0.01 wr  0.4394 wrp    0.08 len  132\n",
      "VECM                  288 mse_r  1.0236 mse_p    0.24 wr  0.5227 wrp    0.30 len  132\n",
      "VECM                  312 mse_r  1.0019 mse_p    0.48 wr  0.5606 wrp    0.08 len  132\n",
      "VECM                  336 mse_r  1.0999 mse_p    0.01 wr  0.5606 wrp    0.08 len  132\n",
      "VECM                  360 mse_r  1.1330 mse_p    0.00 wr  0.5606 wrp    0.08 len  132\n",
      "VECM                  384 mse_r  1.1029 mse_p    0.01 wr  0.5606 wrp    0.08 len  132\n",
      "VECM                  408 mse_r  1.0184 mse_p    0.31 wr  0.5606 wrp    0.08 len  132\n",
      "VECM                  432 mse_r  1.0138 mse_p    0.36 wr  0.5606 wrp    0.08 len  132\n"
     ]
    }
   ],
   "source": [
    "pstart=datetime.date(2008,1,1)\n",
    "pend=datetime.date(2020,12,31)        \n",
    "nn=len(tsd.loc[pstart:pend])\n",
    "interval=1\n",
    "model='VECM'\n",
    "oosp=12\n",
    "for isp in range(oosp*2,oosp*200,oosp*2):#10,pt):\n",
    "    ps=pstart-relativedelta(months=isp*interval-1)\n",
    "    tsdd=tsd.loc[ps:pend]\n",
    "    if (len(tsdd)-isp==nn) or (len(tsdd)-isp==nn-1):\n",
    "        real0,real9,pred=backtest_VECM(tsdd,isp,oosp,'na')\n",
    "        performance_report(real0,real9,pred)"
   ]
  },
  {
   "cell_type": "code",
   "execution_count": 22,
   "metadata": {},
   "outputs": [
    {
     "name": "stdout",
     "output_type": "stream",
     "text": [
      "VECM                   36 mse_r  2.5294 mse_p    0.00 wr  0.4762 wrp    0.33 len   84\n",
      "VECM                   48 mse_r  2.9143 mse_p    0.00 wr  0.5238 wrp    0.33 len   84\n",
      "VECM                   60 mse_r  2.1651 mse_p    0.00 wr  0.5238 wrp    0.33 len   84\n",
      "VECM                   72 mse_r  1.4428 mse_p    0.00 wr  0.6786 wrp    0.00 len   84\n",
      "VECM                   84 mse_r  0.9121 mse_p    0.11 wr  0.8095 wrp    0.00 len   84\n",
      "VECM                   96 mse_r  0.6385 mse_p    0.00 wr  0.8810 wrp    0.00 len   84\n",
      "VECM                  108 mse_r  0.5507 mse_p    0.00 wr  0.9167 wrp    0.00 len   84\n",
      "VECM                  120 mse_r  0.5703 mse_p    0.00 wr  0.9286 wrp    0.00 len   84\n",
      "VECM                  132 mse_r  0.8706 mse_p    0.04 wr  0.7619 wrp    0.00 len   84\n",
      "VECM                  144 mse_r  1.4713 mse_p    0.00 wr  0.7262 wrp    0.00 len   84\n"
     ]
    }
   ],
   "source": [
    "pstart=datetime.date(1983,1,1)\n",
    "pend=datetime.date(1994,12,31)        \n",
    "nn=len(tsd.loc[pstart:pend])\n",
    "nnn=len(tsd)\n",
    "\n",
    "interval=1\n",
    "model='VECM'\n",
    "oosp=60\n",
    "for isp in range(36,oosp*200,12):#10,pt):\n",
    "    ps=pstart-relativedelta(months=isp*interval-1)\n",
    "    tsdd=tsd.loc[ps:pend]\n",
    "    if (len(tsdd)-isp==nn) or (len(tsdd)-isp==nn-1):\n",
    "        real0,real9,pred=backtest_VECM(tsdd,isp,oosp,'li')\n",
    "        performance_report(real0,real9,pred)\n",
    "    if len(tsdd)+isp>=nnn:\n",
    "        break"
   ]
  },
  {
   "cell_type": "code",
   "execution_count": 23,
   "metadata": {},
   "outputs": [
    {
     "name": "stdout",
     "output_type": "stream",
     "text": [
      "VECM                   60 mse_r  5.0205 mse_p    0.00 wr  0.2917 wrp    0.00 len   96\n",
      "VECM                   72 mse_r  7.1704 mse_p    0.00 wr  0.3021 wrp    0.00 len   96\n",
      "VECM                   84 mse_r  7.2743 mse_p    0.00 wr  0.2604 wrp    0.00 len   96\n",
      "VECM                   96 mse_r  5.9682 mse_p    0.00 wr  0.3333 wrp    0.00 len   96\n",
      "VECM                  108 mse_r  4.4677 mse_p    0.00 wr  0.3125 wrp    0.00 len   96\n",
      "VECM                  120 mse_r  3.7231 mse_p    0.00 wr  0.3021 wrp    0.00 len   96\n",
      "VECM                  132 mse_r  3.7597 mse_p    0.00 wr  0.1250 wrp    0.00 len   96\n",
      "VECM                  144 mse_r  3.1588 mse_p    0.00 wr  0.2500 wrp    0.00 len   96\n",
      "VECM                  156 mse_r  2.9022 mse_p    0.00 wr  0.2500 wrp    0.00 len   96\n",
      "VECM                  168 mse_r  2.3966 mse_p    0.00 wr  0.2500 wrp    0.00 len   96\n",
      "VECM                  180 mse_r  2.1104 mse_p    0.00 wr  0.3229 wrp    0.00 len   96\n",
      "VECM                  192 mse_r  1.8880 mse_p    0.00 wr  0.4792 wrp    0.34 len   96\n",
      "VECM                  204 mse_r  1.6341 mse_p    0.00 wr  0.5208 wrp    0.34 len   96\n",
      "VECM                  216 mse_r  1.9514 mse_p    0.00 wr  0.5104 wrp    0.42 len   96\n",
      "VECM                  228 mse_r  2.4055 mse_p    0.00 wr  0.4167 wrp    0.05 len   96\n"
     ]
    }
   ],
   "source": [
    "pstart=datetime.date(1995,1,1)\n",
    "pend=datetime.date(2007,12,31)        \n",
    "nn=len(tsd.loc[pstart:pend])\n",
    "interval=1\n",
    "model='VECM'\n",
    "oosp=60\n",
    "for isp in range(60,oosp*200,12):#10,pt):\n",
    "    ps=pstart-relativedelta(months=isp*interval-1)\n",
    "    tsdd=tsd.loc[ps:pend]\n",
    "    if (len(tsdd)-isp==nn) or (len(tsdd)-isp==nn-1):\n",
    "        real0,real9,pred=backtest_VECM(tsdd,isp,oosp,'ci')\n",
    "        performance_report(real0,real9,pred)\n",
    "    if len(tsdd)+isp>=nnn:\n",
    "        break        "
   ]
  },
  {
   "cell_type": "code",
   "execution_count": 24,
   "metadata": {},
   "outputs": [
    {
     "name": "stdout",
     "output_type": "stream",
     "text": [
      "VECM                   60 mse_r  1.7024 mse_p    0.00 wr  0.4286 wrp    0.10 len   84\n",
      "VECM                   72 mse_r  1.3915 mse_p    0.00 wr  0.4286 wrp    0.10 len   84\n",
      "VECM                   84 mse_r  1.5892 mse_p    0.00 wr  0.3929 wrp    0.02 len   84\n",
      "VECM                   96 mse_r  1.8142 mse_p    0.00 wr  0.2381 wrp    0.00 len   84\n",
      "VECM                  108 mse_r  1.8295 mse_p    0.00 wr  0.2619 wrp    0.00 len   84\n",
      "VECM                  120 mse_r  1.6241 mse_p    0.00 wr  0.2381 wrp    0.00 len   84\n",
      "VECM                  132 mse_r  1.5505 mse_p    0.00 wr  0.1190 wrp    0.00 len   84\n",
      "VECM                  144 mse_r  1.5782 mse_p    0.00 wr  0.1310 wrp    0.00 len   84\n",
      "VECM                  156 mse_r  1.6640 mse_p    0.00 wr  0.2262 wrp    0.00 len   84\n",
      "VECM                  168 mse_r  1.5587 mse_p    0.00 wr  0.3929 wrp    0.02 len   84\n",
      "VECM                  180 mse_r  1.3562 mse_p    0.00 wr  0.3095 wrp    0.00 len   84\n",
      "VECM                  192 mse_r  1.2606 mse_p    0.00 wr  0.2262 wrp    0.00 len   84\n",
      "VECM                  204 mse_r  1.2830 mse_p    0.00 wr  0.2381 wrp    0.00 len   84\n",
      "VECM                  216 mse_r  1.4398 mse_p    0.00 wr  0.3214 wrp    0.00 len   84\n",
      "VECM                  228 mse_r  1.5934 mse_p    0.00 wr  0.3333 wrp    0.00 len   84\n"
     ]
    }
   ],
   "source": [
    "pstart=datetime.date(2008,1,1)\n",
    "pend=datetime.date(2020,12,31)        \n",
    "nn=len(tsd.loc[pstart:pend])\n",
    "interval=1\n",
    "model='VECM'\n",
    "oosp=60\n",
    "for isp in range(oosp*1,oosp*200,12):#10,pt):\n",
    "    ps=pstart-relativedelta(months=isp*interval-1)\n",
    "    tsdd=tsd.loc[ps:pend]\n",
    "    if (len(tsdd)-isp==nn) or (len(tsdd)-isp==nn-1):\n",
    "        real0,real9,pred=backtest_VECM(tsdd,isp,oosp,'ci')\n",
    "        performance_report(real0,real9,pred)\n",
    "    if len(tsdd)+isp>=nnn:\n",
    "        break        "
   ]
  },
  {
   "cell_type": "code",
   "execution_count": null,
   "metadata": {},
   "outputs": [],
   "source": []
  }
 ],
 "metadata": {
  "anaconda-cloud": {},
  "kernelspec": {
   "display_name": "Python 3",
   "language": "python",
   "name": "python3"
  },
  "language_info": {
   "codemirror_mode": {
    "name": "ipython",
    "version": 3
   },
   "file_extension": ".py",
   "mimetype": "text/x-python",
   "name": "python",
   "nbconvert_exporter": "python",
   "pygments_lexer": "ipython3",
   "version": "3.7.3"
  }
 },
 "nbformat": 4,
 "nbformat_minor": 1
}
