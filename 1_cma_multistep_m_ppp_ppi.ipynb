{
 "cells": [
  {
   "cell_type": "markdown",
   "metadata": {},
   "source": [
    "# Classical monetary approach\n",
    "\n",
    "## purchasing power parity - purchasing price index\n",
    "\n",
    "multistep: mutistpe forecast  \n",
    "m: montly data\n",
    "\n",
    "### dependent variable\n",
    "\n",
    "- \"DEXJPUS\",\"fred\"\n",
    "\n",
    "### independent variable\n",
    "\n",
    "- \"PPIACO\",\"fred\"\n",
    "- \"PITGCG01JPM661N\",\"fred\""
   ]
  },
  {
   "cell_type": "code",
   "execution_count": 1,
   "metadata": {},
   "outputs": [],
   "source": [
    "%matplotlib inline\n",
    "import datetime\n",
    "import pandas_datareader.data as web\n",
    "import numpy as np\n",
    "import statsmodels.api as sm\n",
    "import matplotlib.pyplot as plt\n",
    "import pandas as pd\n",
    "from sklearn.metrics import mean_squared_error\n",
    "from scipy.stats import norm\n",
    "from statsmodels.tsa.api import VECM\n",
    "start=\"1971/1/1\";end='2019/12/31'\n",
    "from dateutil.relativedelta import relativedelta\n",
    "from scipy.stats import t\n",
    "from scipy.stats import norm\n",
    "def tcdf(x,n): #t-distribution\n",
    "    if x>=0:\n",
    "        y=(1-t.cdf(x,n))\n",
    "    else:\n",
    "        y=t.cdf(x,n)\n",
    "    return y\n",
    "def ncdf(x): #t-distribution\n",
    "    if x>=0:\n",
    "        y=(1-norm.cdf(x))\n",
    "    else:\n",
    "        y=norm.cdf(x)\n",
    "    return y"
   ]
  },
  {
   "cell_type": "code",
   "execution_count": 2,
   "metadata": {},
   "outputs": [],
   "source": [
    "e =web.DataReader(\"DEXJPUS\",\"fred\",start,end)\n",
    "p1 =web.DataReader(\"USACPIALLMINMEI\",\"fred\",start,end)#m\n",
    "p2 =web.DataReader(\"JPNCPIALLMINMEI\",\"fred\",start,end)#m\n",
    "p3 =web.DataReader(\"PPIACO\",\"fred\",start,end)#m\n",
    "p4 =web.DataReader(\"PITGCG01JPM661N\",\"fred\",start,end)#m"
   ]
  },
  {
   "cell_type": "code",
   "execution_count": 3,
   "metadata": {},
   "outputs": [
    {
     "name": "stdout",
     "output_type": "stream",
     "text": [
      "                ee    p1         p2\n",
      "DATE                               \n",
      "1971-01-01  357.72  37.3  67.280863\n",
      "1971-02-01  357.56  37.7  67.280863\n",
      "1971-03-01  357.42  37.8  67.379515\n",
      "1971-04-01  357.40  37.9  67.478167\n",
      "1971-05-01  357.40  38.1  67.774124\n",
      "                ee     p1    p2\n",
      "DATE                           \n",
      "2019-08-01  106.30  199.2  95.4\n",
      "2019-09-01  108.11  198.4  95.5\n",
      "2019-10-01  108.09  198.6  95.3\n",
      "2019-11-01  109.47  199.0  95.3\n",
      "2019-12-01  108.67  199.2  95.7\n"
     ]
    }
   ],
   "source": [
    "ee=e.copy().resample('MS').last()\n",
    "tsd=pd.concat([ee,p3,p4],axis=1)\n",
    "tsd.columns=['ee','p1','p2']\n",
    "print(tsd.head())\n",
    "print(tsd.tail())"
   ]
  },
  {
   "cell_type": "code",
   "execution_count": 4,
   "metadata": {},
   "outputs": [],
   "source": [
    "def backtest_ols_dp(tsd,tw,pt):#tw time window pt:predicting time\n",
    "    pred=[]\n",
    "    real0=[]\n",
    "    real9=[]\n",
    "    tsd0=np.log(tsd).copy()\n",
    "    for i in range(tw+1,len(tsd)+1-1):\n",
    "        yy=tsd0.iloc[i-tw:i:1,0]\n",
    "        y0=tsd0.iloc[i-tw-1:i:1,0].diff().dropna()\n",
    "        x0=(tsd0.iloc[i-tw-1:i:1,1]-tsd0.iloc[i-tw-1:i:1,2]).diff().dropna()\n",
    "        x0=sm.add_constant(x0.values)\n",
    "        res= sm.OLS(y0, x0).fit()\n",
    "        real0.append(np.exp(tsd0.iloc[i-1:i,0][-1]))\n",
    "        if i<len(tsd)+1-pt:\n",
    "            x9=(tsd0.iloc[i-1:i+pt:1,1]-tsd0.iloc[i-1:i+pt:1,2]).diff().dropna()\n",
    "            if pt==1:\n",
    "                x9=np.insert(x9.values,0,1)\n",
    "            else:\n",
    "                x9=sm.add_constant(x9.values)\n",
    "            pred0=res.predict(x9)[-1:]\n",
    "            pred.append(np.exp(pred0+yy.iloc[-1]))\n",
    "            real9.append(np.exp(tsd0.iloc[i+pt-1:i+pt:1,0].values))\n",
    "    return real0,real9,pred\n",
    "\n",
    "def performance_eval(real0,real9,pred):\n",
    "    p0=pd.DataFrame(real0)\n",
    "    p9=pd.DataFrame(real9)\n",
    "    pp=pd.DataFrame(pred)\n",
    "    p0_=p0[:len(p9)]\n",
    "    pp_=pp[:len(p9)]\n",
    "    wrs=p0_[(p9<p0_)&(pp_<p0_)].count()\n",
    "    wrl=p0_[(p9>p0_)&(pp_>p0_)].count()\n",
    "    wr=float((wrs+wrl)/p0_.count())\n",
    "    #wrp=tcdf(float((wr-0.5)/np.sqrt(0.25/p0_.count())),p0_.count())[0]\n",
    "    wrp=ncdf(float((wr-0.5)/np.sqrt(0.25/p0_.count())))\n",
    "    d_x=(pp_-p9)**2\n",
    "    d_rw=(p9-p0_)**2\n",
    "    d=d_x-d_rw\n",
    "    d_=float(d.mean())\n",
    "    #dm=tcdf(float(d_/np.sqrt(((d-d_)**2).sum()/len(d)**2)),p0_.count())[0]\n",
    "    dm=ncdf(float(d_/np.sqrt(((d-d_)**2).sum()/len(d)**2)))\n",
    "    rmse=float(d_x.mean()/d_rw.mean())\n",
    "    return rmse,dm,wr,wrp\n",
    "\n",
    "def performance_report(real0,real9,pred):\n",
    "    ab,dm,wr,wrp=performance_eval(real0,real9,pred)\n",
    "    print('{0:20s}{1:5d} mse_r {2:7.4f} mse_p {3:7.2f} wr {4:7.4f} wrp {5:7.2f} len {6:4d}'\n",
    "          .format(model,isp,ab,dm,wr,wrp,len(real9)))    "
   ]
  },
  {
   "cell_type": "code",
   "execution_count": 5,
   "metadata": {},
   "outputs": [
    {
     "name": "stdout",
     "output_type": "stream",
     "text": [
      "first difference OLS   30 mse_r  1.0050 mse_p    0.44 wr  0.5357 wrp    0.20 len  140\n",
      "first difference OLS   42 mse_r  1.0049 mse_p    0.44 wr  0.5071 wrp    0.43 len  140\n",
      "first difference OLS   54 mse_r  1.0451 mse_p    0.02 wr  0.4714 wrp    0.25 len  140\n",
      "first difference OLS   66 mse_r  1.0220 mse_p    0.15 wr  0.5143 wrp    0.37 len  140\n",
      "first difference OLS   78 mse_r  1.0114 mse_p    0.34 wr  0.5071 wrp    0.43 len  140\n",
      "first difference OLS   90 mse_r  1.0008 mse_p    0.49 wr  0.5071 wrp    0.43 len  140\n",
      "first difference OLS  102 mse_r  0.9869 mse_p    0.26 wr  0.5571 wrp    0.09 len  140\n",
      "first difference OLS  114 mse_r  0.9791 mse_p    0.14 wr  0.5571 wrp    0.09 len  140\n",
      "first difference OLS  126 mse_r  0.9832 mse_p    0.17 wr  0.5429 wrp    0.16 len  140\n",
      "first difference OLS  138 mse_r  0.9891 mse_p    0.27 wr  0.5429 wrp    0.16 len  140\n"
     ]
    }
   ],
   "source": [
    "pstart=datetime.date(1983,1,1)\n",
    "pend=datetime.date(1994,12,31)        \n",
    "model='first difference OLS'\n",
    "oosp=3\n",
    "nn=len(tsd.loc[pstart:pend])\n",
    "for isp in range(oosp*10,oosp*50,12):#10,pt):\n",
    "    ps=pstart-relativedelta(months=isp*1-1)\n",
    "    tsdd=tsd.loc[ps:pend]\n",
    "    if (len(tsdd)-isp==nn) or (len(tsdd)-isp==nn-1):\n",
    "        real0,real9,pred=backtest_ols_dp(tsdd,isp,oosp)\n",
    "        performance_report(real0,real9,pred)"
   ]
  },
  {
   "cell_type": "code",
   "execution_count": 6,
   "metadata": {},
   "outputs": [
    {
     "name": "stdout",
     "output_type": "stream",
     "text": [
      "first difference OLS   30 mse_r  0.9893 mse_p    0.37 wr  0.5066 wrp    0.44 len  152\n",
      "first difference OLS   48 mse_r  0.9956 mse_p    0.45 wr  0.5263 wrp    0.26 len  152\n",
      "first difference OLS   66 mse_r  0.9704 mse_p    0.25 wr  0.5855 wrp    0.02 len  152\n",
      "first difference OLS   84 mse_r  0.9851 mse_p    0.36 wr  0.5329 wrp    0.21 len  152\n",
      "first difference OLS  102 mse_r  0.9852 mse_p    0.37 wr  0.5592 wrp    0.07 len  152\n",
      "first difference OLS  120 mse_r  0.9998 mse_p    0.50 wr  0.5263 wrp    0.26 len  152\n",
      "first difference OLS  138 mse_r  1.0136 mse_p    0.34 wr  0.5197 wrp    0.31 len  152\n"
     ]
    }
   ],
   "source": [
    "pstart=datetime.date(1995,1,1)\n",
    "pend=datetime.date(2007,12,31)        \n",
    "model='first difference OLS'\n",
    "oosp=3\n",
    "nn=len(tsd.loc[pstart:pend])\n",
    "for isp in range(oosp*10,oosp*50,18):#10,pt):\n",
    "    ps=pstart-relativedelta(months=isp*1-1)\n",
    "    tsdd=tsd.loc[ps:pend]\n",
    "    if (len(tsdd)-isp==nn) or (len(tsdd)-isp==nn-1):\n",
    "        real0,real9,pred=backtest_ols_dp(tsdd,isp,oosp)\n",
    "        performance_report(real0,real9,pred)"
   ]
  },
  {
   "cell_type": "code",
   "execution_count": 7,
   "metadata": {},
   "outputs": [
    {
     "name": "stdout",
     "output_type": "stream",
     "text": [
      "first difference OLS   30 mse_r  0.9347 mse_p    0.10 wr  0.5714 wrp    0.05 len  140\n",
      "first difference OLS   48 mse_r  0.9526 mse_p    0.13 wr  0.5714 wrp    0.05 len  140\n",
      "first difference OLS   66 mse_r  0.9720 mse_p    0.20 wr  0.5786 wrp    0.03 len  140\n",
      "first difference OLS   84 mse_r  1.0159 mse_p    0.24 wr  0.5643 wrp    0.06 len  140\n",
      "first difference OLS  102 mse_r  1.0203 mse_p    0.16 wr  0.5857 wrp    0.02 len  140\n",
      "first difference OLS  120 mse_r  1.0273 mse_p    0.07 wr  0.5786 wrp    0.03 len  140\n",
      "first difference OLS  138 mse_r  1.0346 mse_p    0.07 wr  0.5571 wrp    0.09 len  140\n"
     ]
    }
   ],
   "source": [
    "pstart=datetime.date(2008,1,1)\n",
    "pend=datetime.date(2020,12,31)        \n",
    "model='first difference OLS'\n",
    "oosp=3\n",
    "nn=len(tsd.loc[pstart:pend])\n",
    "for isp in range(oosp*10,oosp*50,18):#10,pt):\n",
    "    ps=pstart-relativedelta(months=isp*1-1)\n",
    "    tsdd=tsd.loc[ps:pend]\n",
    "    if (len(tsdd)-isp==nn) or (len(tsdd)-isp==nn-1):\n",
    "        real0,real9,pred=backtest_ols_dp(tsdd,isp,oosp)\n",
    "        performance_report(real0,real9,pred)"
   ]
  },
  {
   "cell_type": "code",
   "execution_count": 8,
   "metadata": {},
   "outputs": [
    {
     "name": "stdout",
     "output_type": "stream",
     "text": [
      "first difference OLS  120 mse_r  0.9801 mse_p    0.00 wr  0.7099 wrp    0.00 len  131\n",
      "first difference OLS  126 mse_r  0.9799 mse_p    0.00 wr  0.7099 wrp    0.00 len  131\n",
      "first difference OLS  132 mse_r  0.9793 mse_p    0.00 wr  0.7099 wrp    0.00 len  131\n",
      "first difference OLS  138 mse_r  0.9879 mse_p    0.00 wr  0.6947 wrp    0.00 len  131\n",
      "first difference OLS  144 mse_r  0.9903 mse_p    0.00 wr  0.7176 wrp    0.00 len  131\n"
     ]
    }
   ],
   "source": [
    "pstart=datetime.date(1983,1,1)\n",
    "pend=datetime.date(1994,12,31)        \n",
    "model='first difference OLS'\n",
    "oosp=12\n",
    "nn=len(tsd.loc[pstart:pend])\n",
    "for isp in range(oosp*10,oosp*50,6):#10,pt):\n",
    "    ps=pstart-relativedelta(months=isp*1-1)\n",
    "    tsdd=tsd.loc[ps:pend]\n",
    "    if (len(tsdd)-isp==nn) or (len(tsdd)-isp==nn-1):\n",
    "        real0,real9,pred=backtest_ols_dp(tsdd,isp,oosp)\n",
    "        performance_report(real0,real9,pred)"
   ]
  },
  {
   "cell_type": "code",
   "execution_count": 9,
   "metadata": {},
   "outputs": [
    {
     "name": "stdout",
     "output_type": "stream",
     "text": [
      "first difference OLS  120 mse_r  0.9523 mse_p    0.02 wr  0.5105 wrp    0.40 len  143\n",
      "first difference OLS  138 mse_r  0.9669 mse_p    0.05 wr  0.4615 wrp    0.18 len  143\n",
      "first difference OLS  156 mse_r  0.9674 mse_p    0.04 wr  0.4755 wrp    0.28 len  143\n",
      "first difference OLS  174 mse_r  0.9738 mse_p    0.04 wr  0.4895 wrp    0.40 len  143\n",
      "first difference OLS  192 mse_r  0.9794 mse_p    0.07 wr  0.4755 wrp    0.28 len  143\n",
      "first difference OLS  210 mse_r  0.9836 mse_p    0.09 wr  0.4615 wrp    0.18 len  143\n",
      "first difference OLS  228 mse_r  0.9902 mse_p    0.18 wr  0.4685 wrp    0.23 len  143\n",
      "first difference OLS  246 mse_r  0.9977 mse_p    0.41 wr  0.4545 wrp    0.14 len  143\n",
      "first difference OLS  264 mse_r  0.9960 mse_p    0.32 wr  0.4545 wrp    0.14 len  143\n",
      "first difference OLS  282 mse_r  0.9989 mse_p    0.44 wr  0.4615 wrp    0.18 len  143\n"
     ]
    }
   ],
   "source": [
    "pstart=datetime.date(1995,1,1)\n",
    "pend=datetime.date(2007,12,31)        \n",
    "model='first difference OLS'\n",
    "oosp=12\n",
    "nn=len(tsd.loc[pstart:pend])\n",
    "for isp in range(oosp*10,oosp*50,18):#10,pt):\n",
    "    ps=pstart-relativedelta(months=isp*1-1)\n",
    "    tsdd=tsd.loc[ps:pend]\n",
    "    if (len(tsdd)-isp==nn) or (len(tsdd)-isp==nn-1):\n",
    "        real0,real9,pred=backtest_ols_dp(tsdd,isp,oosp)\n",
    "        performance_report(real0,real9,pred)"
   ]
  },
  {
   "cell_type": "code",
   "execution_count": 10,
   "metadata": {},
   "outputs": [
    {
     "name": "stdout",
     "output_type": "stream",
     "text": [
      "first difference OLS  120 mse_r  1.0040 mse_p    0.18 wr  0.5420 wrp    0.17 len  131\n",
      "first difference OLS  144 mse_r  0.9977 mse_p    0.28 wr  0.5420 wrp    0.17 len  131\n",
      "first difference OLS  168 mse_r  0.9941 mse_p    0.12 wr  0.5496 wrp    0.13 len  131\n",
      "first difference OLS  192 mse_r  0.9898 mse_p    0.02 wr  0.5802 wrp    0.03 len  131\n",
      "first difference OLS  216 mse_r  0.9779 mse_p    0.00 wr  0.6412 wrp    0.00 len  131\n",
      "first difference OLS  240 mse_r  0.9780 mse_p    0.00 wr  0.6412 wrp    0.00 len  131\n",
      "first difference OLS  264 mse_r  0.9798 mse_p    0.00 wr  0.5878 wrp    0.02 len  131\n",
      "first difference OLS  288 mse_r  0.9722 mse_p    0.00 wr  0.6260 wrp    0.00 len  131\n",
      "first difference OLS  312 mse_r  0.9723 mse_p    0.00 wr  0.6489 wrp    0.00 len  131\n",
      "first difference OLS  336 mse_r  0.9830 mse_p    0.00 wr  0.5802 wrp    0.03 len  131\n",
      "first difference OLS  360 mse_r  0.9860 mse_p    0.01 wr  0.6031 wrp    0.01 len  131\n",
      "first difference OLS  384 mse_r  0.9844 mse_p    0.00 wr  0.6031 wrp    0.01 len  131\n",
      "first difference OLS  408 mse_r  0.9848 mse_p    0.00 wr  0.5954 wrp    0.01 len  131\n",
      "first difference OLS  432 mse_r  0.9886 mse_p    0.01 wr  0.6031 wrp    0.01 len  131\n"
     ]
    }
   ],
   "source": [
    "pstart=datetime.date(2008,1,1)\n",
    "pend=datetime.date(2020,12,31)        \n",
    "model='first difference OLS'\n",
    "oosp=12\n",
    "nn=len(tsd.loc[pstart:pend])\n",
    "for isp in range(oosp*10,oosp*50,24):#10,pt):\n",
    "    ps=pstart-relativedelta(months=isp*1-1)\n",
    "    tsdd=tsd.loc[ps:pend]\n",
    "    if (len(tsdd)-isp==nn) or (len(tsdd)-isp==nn-1):\n",
    "        real0,real9,pred=backtest_ols_dp(tsdd,isp,oosp)\n",
    "        performance_report(real0,real9,pred)"
   ]
  },
  {
   "cell_type": "code",
   "execution_count": 11,
   "metadata": {},
   "outputs": [
    {
     "name": "stdout",
     "output_type": "stream",
     "text": [
      "first difference OLS   60 mse_r  1.0031 mse_p    0.30 wr  0.7108 wrp    0.00 len   83\n",
      "first difference OLS   72 mse_r  0.9966 mse_p    0.25 wr  0.7470 wrp    0.00 len   83\n",
      "first difference OLS   84 mse_r  0.9907 mse_p    0.02 wr  0.7831 wrp    0.00 len   83\n",
      "first difference OLS   96 mse_r  0.9870 mse_p    0.00 wr  0.8072 wrp    0.00 len   83\n",
      "first difference OLS  108 mse_r  0.9874 mse_p    0.00 wr  0.7831 wrp    0.00 len   83\n",
      "first difference OLS  120 mse_r  0.9890 mse_p    0.00 wr  0.8434 wrp    0.00 len   83\n",
      "first difference OLS  132 mse_r  0.9895 mse_p    0.00 wr  0.8675 wrp    0.00 len   83\n",
      "first difference OLS  144 mse_r  0.9876 mse_p    0.00 wr  0.9036 wrp    0.00 len   83\n"
     ]
    }
   ],
   "source": [
    "pstart=datetime.date(1983,1,1)\n",
    "pend=datetime.date(1994,12,31)        \n",
    "model='first difference OLS'\n",
    "oosp=60\n",
    "nn=len(tsd.loc[pstart:pend])\n",
    "for isp in range(oosp*1,oosp*50,12):#10,pt):\n",
    "    ps=pstart-relativedelta(months=isp*1-1)\n",
    "    tsdd=tsd.loc[ps:pend]\n",
    "    if (len(tsdd)-isp==nn) or (len(tsdd)-isp==nn-1):\n",
    "        real0,real9,pred=backtest_ols_dp(tsdd,isp,oosp)\n",
    "        performance_report(real0,real9,pred)"
   ]
  },
  {
   "cell_type": "code",
   "execution_count": 12,
   "metadata": {},
   "outputs": [
    {
     "name": "stdout",
     "output_type": "stream",
     "text": [
      "first difference OLS   60 mse_r  1.0348 mse_p    0.27 wr  0.5053 wrp    0.46 len   95\n",
      "first difference OLS   78 mse_r  1.0208 mse_p    0.34 wr  0.4947 wrp    0.46 len   95\n",
      "first difference OLS   96 mse_r  0.9944 mse_p    0.45 wr  0.5263 wrp    0.30 len   95\n",
      "first difference OLS  114 mse_r  0.9900 mse_p    0.39 wr  0.5368 wrp    0.24 len   95\n",
      "first difference OLS  132 mse_r  1.0151 mse_p    0.31 wr  0.4842 wrp    0.38 len   95\n",
      "first difference OLS  150 mse_r  0.9963 mse_p    0.44 wr  0.5158 wrp    0.38 len   95\n",
      "first difference OLS  168 mse_r  0.9900 mse_p    0.32 wr  0.5368 wrp    0.24 len   95\n",
      "first difference OLS  186 mse_r  0.9796 mse_p    0.14 wr  0.5158 wrp    0.38 len   95\n",
      "first difference OLS  204 mse_r  0.9815 mse_p    0.13 wr  0.4526 wrp    0.18 len   95\n",
      "first difference OLS  222 mse_r  0.9890 mse_p    0.22 wr  0.4842 wrp    0.38 len   95\n",
      "first difference OLS  240 mse_r  0.9968 mse_p    0.40 wr  0.4526 wrp    0.18 len   95\n",
      "first difference OLS  258 mse_r  0.9896 mse_p    0.18 wr  0.4526 wrp    0.18 len   95\n",
      "first difference OLS  276 mse_r  0.9930 mse_p    0.23 wr  0.4421 wrp    0.13 len   95\n"
     ]
    }
   ],
   "source": [
    "pstart=datetime.date(1995,1,1)\n",
    "pend=datetime.date(2007,12,31)        \n",
    "model='first difference OLS'\n",
    "oosp=60\n",
    "nn=len(tsd.loc[pstart:pend])\n",
    "for isp in range(oosp*1,oosp*50,18):#10,pt):\n",
    "    ps=pstart-relativedelta(months=isp*1-1)\n",
    "    tsdd=tsd.loc[ps:pend]\n",
    "    if (len(tsdd)-isp==nn) or (len(tsdd)-isp==nn-1):\n",
    "        real0,real9,pred=backtest_ols_dp(tsdd,isp,oosp)\n",
    "        performance_report(real0,real9,pred)"
   ]
  },
  {
   "cell_type": "code",
   "execution_count": 13,
   "metadata": {},
   "outputs": [
    {
     "name": "stdout",
     "output_type": "stream",
     "text": [
      "first difference OLS   60 mse_r  1.0294 mse_p    0.00 wr  0.1807 wrp    0.00 len   83\n",
      "first difference OLS   96 mse_r  1.0214 mse_p    0.00 wr  0.0241 wrp    0.00 len   83\n",
      "first difference OLS  132 mse_r  1.0118 mse_p    0.00 wr  0.0602 wrp    0.00 len   83\n",
      "first difference OLS  168 mse_r  1.0070 mse_p    0.00 wr  0.3735 wrp    0.01 len   83\n",
      "first difference OLS  204 mse_r  1.0001 mse_p    0.48 wr  0.4699 wrp    0.29 len   83\n",
      "first difference OLS  240 mse_r  1.0030 mse_p    0.12 wr  0.3855 wrp    0.02 len   83\n",
      "first difference OLS  276 mse_r  1.0035 mse_p    0.08 wr  0.4217 wrp    0.08 len   83\n",
      "first difference OLS  312 mse_r  1.0106 mse_p    0.00 wr  0.2771 wrp    0.00 len   83\n",
      "first difference OLS  348 mse_r  1.0123 mse_p    0.00 wr  0.1928 wrp    0.00 len   83\n",
      "first difference OLS  384 mse_r  1.0113 mse_p    0.00 wr  0.1807 wrp    0.00 len   83\n",
      "first difference OLS  420 mse_r  1.0126 mse_p    0.00 wr  0.1566 wrp    0.00 len   83\n"
     ]
    }
   ],
   "source": [
    "pstart=datetime.date(2008,1,1)\n",
    "pend=datetime.date(2020,12,31)        \n",
    "model='first difference OLS'\n",
    "oosp=60\n",
    "nn=len(tsd.loc[pstart:pend])\n",
    "for isp in range(oosp*1,oosp*50,36):#10,pt):\n",
    "    ps=pstart-relativedelta(months=isp*1-1)\n",
    "    tsdd=tsd.loc[ps:pend]\n",
    "    if (len(tsdd)-isp==nn) or (len(tsdd)-isp==nn-1):\n",
    "        real0,real9,pred=backtest_ols_dp(tsdd,isp,oosp)\n",
    "        performance_report(real0,real9,pred)"
   ]
  },
  {
   "cell_type": "code",
   "execution_count": 14,
   "metadata": {},
   "outputs": [],
   "source": [
    "def backtest_VECM(tsd,tw,pt,det):#tw time window pt:predicting time\n",
    "    pred=[]\n",
    "    real0=[]\n",
    "    real9=[]\n",
    "    tsd0=np.log(tsd.copy())\n",
    "    for i in range(tw,len(tsd)+1):\n",
    "        y0=(tsd0.iloc[i-tw:i:1,0])\n",
    "        x=tsd0.iloc[i-tw:i:1,1]-tsd0.iloc[i-tw:i:1,2]\n",
    "        tsd00=pd.concat([y0,x],axis=1)\n",
    "        model = VECM(tsd00,k_ar_diff=0,deterministic=det)\n",
    "        results = model.fit() \n",
    "        real0.append(np.exp(y0.iloc[-1]))\n",
    "        pp=np.exp(results.predict(pt)[-1][0])\n",
    "        pred.append(pp)\n",
    "        if i<len(tsd)+1-pt:\n",
    "            real9.append(tsd.iloc[i+pt-1,0])\n",
    "    return real0,real9,pred"
   ]
  },
  {
   "cell_type": "code",
   "execution_count": 15,
   "metadata": {},
   "outputs": [
    {
     "name": "stdout",
     "output_type": "stream",
     "text": [
      "VECM                   60 mse_r  1.1558 mse_p    0.07 wr  0.5745 wrp    0.04 len  141\n",
      "VECM                   75 mse_r  0.9980 mse_p    0.48 wr  0.5319 wrp    0.22 len  141\n",
      "VECM                   90 mse_r  1.0717 mse_p    0.02 wr  0.5461 wrp    0.14 len  141\n",
      "VECM                  105 mse_r  1.0377 mse_p    0.16 wr  0.5887 wrp    0.02 len  141\n",
      "VECM                  120 mse_r  0.9484 mse_p    0.12 wr  0.5816 wrp    0.03 len  141\n",
      "VECM                  135 mse_r  0.8812 mse_p    0.02 wr  0.5957 wrp    0.01 len  141\n"
     ]
    }
   ],
   "source": [
    "pstart=datetime.date(1983,1,1)\n",
    "pend=datetime.date(1994,12,31)        \n",
    "nn=len(tsd.loc[pstart:pend])\n",
    "interval=1\n",
    "model='VECM'\n",
    "oosp=3\n",
    "for isp in range(oosp*20,oosp*200,oosp*5):#10,pt):\n",
    "    ps=pstart-relativedelta(months=isp*interval-1)\n",
    "    tsdd=tsd.loc[ps:pend]\n",
    "    if (len(tsdd)-isp==nn) or (len(tsdd)-isp==nn-1):\n",
    "        real0,real9,pred=backtest_VECM(tsdd,isp,oosp,'li')\n",
    "        performance_report(real0,real9,pred)"
   ]
  },
  {
   "cell_type": "code",
   "execution_count": 16,
   "metadata": {},
   "outputs": [
    {
     "name": "stdout",
     "output_type": "stream",
     "text": [
      "VECM                   60 mse_r  1.0881 mse_p    0.05 wr  0.4510 wrp    0.11 len  153\n",
      "VECM                   90 mse_r  1.0184 mse_p    0.32 wr  0.3922 wrp    0.00 len  153\n",
      "VECM                  120 mse_r  1.0178 mse_p    0.16 wr  0.4510 wrp    0.11 len  153\n",
      "VECM                  150 mse_r  1.0729 mse_p    0.00 wr  0.4118 wrp    0.01 len  153\n",
      "VECM                  180 mse_r  1.0686 mse_p    0.00 wr  0.4118 wrp    0.01 len  153\n",
      "VECM                  210 mse_r  1.0306 mse_p    0.06 wr  0.4118 wrp    0.01 len  153\n",
      "VECM                  240 mse_r  1.0341 mse_p    0.02 wr  0.4118 wrp    0.01 len  153\n",
      "VECM                  270 mse_r  1.0347 mse_p    0.02 wr  0.4183 wrp    0.02 len  153\n"
     ]
    }
   ],
   "source": [
    "pstart=datetime.date(1995,1,1)\n",
    "pend=datetime.date(2007,12,31)        \n",
    "nn=len(tsd.loc[pstart:pend])\n",
    "interval=1\n",
    "model='VECM'\n",
    "oosp=3\n",
    "for isp in range(oosp*20,oosp*200,oosp*10):#10,pt):\n",
    "    ps=pstart-relativedelta(months=isp*interval-1)\n",
    "    tsdd=tsd.loc[ps:pend]\n",
    "    if (len(tsdd)-isp==nn) or (len(tsdd)-isp==nn-1):\n",
    "        real0,real9,pred=backtest_VECM(tsdd,isp,oosp,'na')\n",
    "        performance_report(real0,real9,pred)"
   ]
  },
  {
   "cell_type": "code",
   "execution_count": 17,
   "metadata": {},
   "outputs": [
    {
     "name": "stdout",
     "output_type": "stream",
     "text": [
      "VECM                   60 mse_r  1.0725 mse_p    0.01 wr  0.5248 wrp    0.28 len  141\n",
      "VECM                   90 mse_r  1.0297 mse_p    0.17 wr  0.5177 wrp    0.34 len  141\n",
      "VECM                  120 mse_r  0.9871 mse_p    0.25 wr  0.5390 wrp    0.18 len  141\n",
      "VECM                  150 mse_r  1.0060 mse_p    0.32 wr  0.5035 wrp    0.47 len  141\n",
      "VECM                  180 mse_r  1.0215 mse_p    0.03 wr  0.4823 wrp    0.34 len  141\n",
      "VECM                  210 mse_r  0.9996 mse_p    0.49 wr  0.5035 wrp    0.47 len  141\n",
      "VECM                  240 mse_r  1.0048 mse_p    0.35 wr  0.5603 wrp    0.08 len  141\n",
      "VECM                  270 mse_r  1.0229 mse_p    0.07 wr  0.4610 wrp    0.18 len  141\n",
      "VECM                  300 mse_r  1.0042 mse_p    0.41 wr  0.4965 wrp    0.47 len  141\n",
      "VECM                  330 mse_r  1.0265 mse_p    0.11 wr  0.5035 wrp    0.47 len  141\n",
      "VECM                  360 mse_r  1.0391 mse_p    0.05 wr  0.5035 wrp    0.47 len  141\n",
      "VECM                  390 mse_r  1.0273 mse_p    0.14 wr  0.5035 wrp    0.47 len  141\n",
      "VECM                  420 mse_r  1.0173 mse_p    0.23 wr  0.5035 wrp    0.47 len  141\n"
     ]
    }
   ],
   "source": [
    "pstart=datetime.date(2008,1,1)\n",
    "pend=datetime.date(2020,12,31)        \n",
    "nn=len(tsd.loc[pstart:pend])\n",
    "interval=1\n",
    "model='VECM'\n",
    "oosp=3\n",
    "for isp in range(oosp*20,oosp*200,oosp*10):#10,pt):\n",
    "    ps=pstart-relativedelta(months=isp*interval-1)\n",
    "    tsdd=tsd.loc[ps:pend]\n",
    "    if (len(tsdd)-isp==nn) or (len(tsdd)-isp==nn-1):\n",
    "        real0,real9,pred=backtest_VECM(tsdd,isp,oosp,'na')\n",
    "        performance_report(real0,real9,pred)"
   ]
  },
  {
   "cell_type": "code",
   "execution_count": 18,
   "metadata": {},
   "outputs": [
    {
     "data": {
      "text/plain": [
       "(144, 141, 144)"
      ]
     },
     "execution_count": 18,
     "metadata": {},
     "output_type": "execute_result"
    },
    {
     "data": {
      "image/png": "[encoded data removed]",
      "text/plain": [
       "<Figure size 432x288 with 1 Axes>"
      ]
     },
     "metadata": {
      "needs_background": "light"
     },
     "output_type": "display_data"
    }
   ],
   "source": [
    "plt.plot(real0[:],label='c')\n",
    "plt.plot(real9[:],label='c9')\n",
    "plt.plot(pred[:],label='pred')\n",
    "plt.legend()\n",
    "len(real0),len(real9),len(pred)"
   ]
  },
  {
   "cell_type": "code",
   "execution_count": 19,
   "metadata": {},
   "outputs": [
    {
     "name": "stdout",
     "output_type": "stream",
     "text": [
      "VECM                   24 mse_r  1.3824 mse_p    0.00 wr  0.5833 wrp    0.03 len  132\n",
      "VECM                   48 mse_r  1.3966 mse_p    0.02 wr  0.6742 wrp    0.00 len  132\n",
      "VECM                   72 mse_r  1.0941 mse_p    0.04 wr  0.6439 wrp    0.00 len  132\n",
      "VECM                   96 mse_r  1.1095 mse_p    0.01 wr  0.6667 wrp    0.00 len  132\n",
      "VECM                  120 mse_r  0.8122 mse_p    0.00 wr  0.7652 wrp    0.00 len  132\n",
      "VECM                  144 mse_r  0.6310 mse_p    0.00 wr  0.7652 wrp    0.00 len  132\n"
     ]
    }
   ],
   "source": [
    "pstart=datetime.date(1983,1,1)\n",
    "pend=datetime.date(1994,12,31)        \n",
    "nn=len(tsd.loc[pstart:pend])\n",
    "interval=1\n",
    "model='VECM'\n",
    "oosp=12\n",
    "for isp in range(oosp*2,oosp*200,oosp*2):#10,pt):\n",
    "    ps=pstart-relativedelta(months=isp*interval-1)\n",
    "    tsdd=tsd.loc[ps:pend]\n",
    "    if (len(tsdd)-isp==nn) or (len(tsdd)-isp==nn-1):\n",
    "        real0,real9,pred=backtest_VECM(tsdd,isp,oosp,'li')\n",
    "        performance_report(real0,real9,pred)"
   ]
  },
  {
   "cell_type": "code",
   "execution_count": 20,
   "metadata": {},
   "outputs": [
    {
     "name": "stdout",
     "output_type": "stream",
     "text": [
      "VECM                   24 mse_r  1.8465 mse_p    0.00 wr  0.5486 wrp    0.12 len  144\n",
      "VECM                   36 mse_r  1.3213 mse_p    0.05 wr  0.5833 wrp    0.02 len  144\n",
      "VECM                   48 mse_r  1.4997 mse_p    0.01 wr  0.4931 wrp    0.43 len  144\n",
      "VECM                   60 mse_r  1.1372 mse_p    0.16 wr  0.5833 wrp    0.02 len  144\n",
      "VECM                   72 mse_r  1.2603 mse_p    0.05 wr  0.6042 wrp    0.01 len  144\n",
      "VECM                   84 mse_r  0.9265 mse_p    0.11 wr  0.6042 wrp    0.01 len  144\n",
      "VECM                   96 mse_r  1.0548 mse_p    0.22 wr  0.5486 wrp    0.12 len  144\n",
      "VECM                  108 mse_r  1.1681 mse_p    0.01 wr  0.5000 wrp    0.50 len  144\n",
      "VECM                  120 mse_r  1.1873 mse_p    0.01 wr  0.5486 wrp    0.12 len  144\n",
      "VECM                  132 mse_r  1.2275 mse_p    0.00 wr  0.5069 wrp    0.43 len  144\n",
      "VECM                  144 mse_r  1.2452 mse_p    0.00 wr  0.4931 wrp    0.43 len  144\n",
      "VECM                  156 mse_r  1.2806 mse_p    0.00 wr  0.4514 wrp    0.12 len  144\n",
      "VECM                  168 mse_r  1.2246 mse_p    0.00 wr  0.4514 wrp    0.12 len  144\n",
      "VECM                  180 mse_r  1.1578 mse_p    0.00 wr  0.4514 wrp    0.12 len  144\n",
      "VECM                  192 mse_r  1.1261 mse_p    0.00 wr  0.4306 wrp    0.05 len  144\n",
      "VECM                  204 mse_r  1.0700 mse_p    0.01 wr  0.4583 wrp    0.16 len  144\n",
      "VECM                  216 mse_r  1.1707 mse_p    0.00 wr  0.3264 wrp    0.00 len  144\n",
      "VECM                  228 mse_r  1.1788 mse_p    0.00 wr  0.3542 wrp    0.00 len  144\n",
      "VECM                  240 mse_r  1.1287 mse_p    0.00 wr  0.4306 wrp    0.05 len  144\n",
      "VECM                  252 mse_r  1.1892 mse_p    0.00 wr  0.4306 wrp    0.05 len  144\n",
      "VECM                  264 mse_r  1.2033 mse_p    0.00 wr  0.3750 wrp    0.00 len  144\n",
      "VECM                  276 mse_r  1.1863 mse_p    0.00 wr  0.3264 wrp    0.00 len  144\n",
      "VECM                  288 mse_r  1.2091 mse_p    0.00 wr  0.3264 wrp    0.00 len  144\n"
     ]
    }
   ],
   "source": [
    "pstart=datetime.date(1995,1,1)\n",
    "pend=datetime.date(2007,12,31)        \n",
    "nn=len(tsd.loc[pstart:pend])\n",
    "interval=1\n",
    "model='VECM'\n",
    "oosp=12\n",
    "for isp in range(oosp*2,oosp*200,oosp*1):#10,pt):\n",
    "    ps=pstart-relativedelta(months=isp*interval-1)\n",
    "    tsdd=tsd.loc[ps:pend]\n",
    "    if (len(tsdd)-isp==nn) or (len(tsdd)-isp==nn-1):\n",
    "        real0,real9,pred=backtest_VECM(tsdd,isp,oosp,'ci')\n",
    "        performance_report(real0,real9,pred)"
   ]
  },
  {
   "cell_type": "code",
   "execution_count": 21,
   "metadata": {},
   "outputs": [
    {
     "name": "stdout",
     "output_type": "stream",
     "text": [
      "VECM                   24 mse_r  2.4233 mse_p    0.01 wr  0.3864 wrp    0.00 len  132\n",
      "VECM                   48 mse_r  1.3411 mse_p    0.00 wr  0.5758 wrp    0.04 len  132\n",
      "VECM                   72 mse_r  1.2860 mse_p    0.00 wr  0.3712 wrp    0.00 len  132\n",
      "VECM                   96 mse_r  1.1829 mse_p    0.00 wr  0.5303 wrp    0.24 len  132\n",
      "VECM                  120 mse_r  1.3202 mse_p    0.00 wr  0.3864 wrp    0.00 len  132\n",
      "VECM                  144 mse_r  1.2861 mse_p    0.00 wr  0.3864 wrp    0.00 len  132\n",
      "VECM                  168 mse_r  1.4392 mse_p    0.00 wr  0.2652 wrp    0.00 len  132\n",
      "VECM                  192 mse_r  1.2107 mse_p    0.00 wr  0.3485 wrp    0.00 len  132\n",
      "VECM                  216 mse_r  1.0829 mse_p    0.03 wr  0.6288 wrp    0.00 len  132\n",
      "VECM                  240 mse_r  1.0347 mse_p    0.15 wr  0.5833 wrp    0.03 len  132\n",
      "VECM                  264 mse_r  1.0594 mse_p    0.00 wr  0.5985 wrp    0.01 len  132\n",
      "VECM                  288 mse_r  1.0482 mse_p    0.01 wr  0.5909 wrp    0.02 len  132\n",
      "VECM                  312 mse_r  0.9880 mse_p    0.27 wr  0.6591 wrp    0.00 len  132\n",
      "VECM                  336 mse_r  0.9907 mse_p    0.35 wr  0.6136 wrp    0.00 len  132\n",
      "VECM                  360 mse_r  1.0100 mse_p    0.37 wr  0.5530 wrp    0.11 len  132\n",
      "VECM                  384 mse_r  1.0478 mse_p    0.05 wr  0.5152 wrp    0.36 len  132\n",
      "VECM                  408 mse_r  1.0369 mse_p    0.07 wr  0.4848 wrp    0.36 len  132\n",
      "VECM                  432 mse_r  1.0502 mse_p    0.03 wr  0.5455 wrp    0.15 len  132\n"
     ]
    }
   ],
   "source": [
    "pstart=datetime.date(2008,1,1)\n",
    "pend=datetime.date(2020,12,31)        \n",
    "nn=len(tsd.loc[pstart:pend])\n",
    "interval=1\n",
    "model='VECM'\n",
    "oosp=12\n",
    "for isp in range(oosp*2,oosp*200,oosp*2):#10,pt):\n",
    "    ps=pstart-relativedelta(months=isp*interval-1)\n",
    "    tsdd=tsd.loc[ps:pend]\n",
    "    if (len(tsdd)-isp==nn) or (len(tsdd)-isp==nn-1):\n",
    "        real0,real9,pred=backtest_VECM(tsdd,isp,oosp,'ci')\n",
    "        performance_report(real0,real9,pred)"
   ]
  },
  {
   "cell_type": "code",
   "execution_count": 22,
   "metadata": {},
   "outputs": [
    {
     "name": "stdout",
     "output_type": "stream",
     "text": [
      "VECM                   36 mse_r  1.4151 mse_p    0.01 wr  0.9286 wrp    0.00 len   84\n",
      "VECM                   48 mse_r  1.4864 mse_p    0.00 wr  0.8690 wrp    0.00 len   84\n",
      "VECM                   60 mse_r  1.6211 mse_p    0.00 wr  0.8333 wrp    0.00 len   84\n",
      "VECM                   72 mse_r  1.1242 mse_p    0.06 wr  0.7857 wrp    0.00 len   84\n",
      "VECM                   84 mse_r  0.7725 mse_p    0.01 wr  0.7976 wrp    0.00 len   84\n",
      "VECM                   96 mse_r  0.5483 mse_p    0.00 wr  0.7857 wrp    0.00 len   84\n",
      "VECM                  108 mse_r  0.3464 mse_p    0.00 wr  0.8571 wrp    0.00 len   84\n",
      "VECM                  120 mse_r  0.1669 mse_p    0.00 wr  0.9405 wrp    0.00 len   84\n",
      "VECM                  132 mse_r  0.2457 mse_p    0.00 wr  0.9881 wrp    0.00 len   84\n",
      "VECM                  144 mse_r  0.3781 mse_p    0.00 wr  0.9881 wrp    0.00 len   84\n"
     ]
    }
   ],
   "source": [
    "pstart=datetime.date(1983,1,1)\n",
    "pend=datetime.date(1994,12,31)        \n",
    "nn=len(tsd.loc[pstart:pend])\n",
    "nnn=len(tsd)\n",
    "\n",
    "interval=1\n",
    "model='VECM'\n",
    "oosp=60\n",
    "for isp in range(36,oosp*200,12):#10,pt):\n",
    "    ps=pstart-relativedelta(months=isp*interval-1)\n",
    "    tsdd=tsd.loc[ps:pend]\n",
    "    if (len(tsdd)-isp==nn) or (len(tsdd)-isp==nn-1):\n",
    "        real0,real9,pred=backtest_VECM(tsdd,isp,oosp,'li')\n",
    "        performance_report(real0,real9,pred)\n",
    "    if len(tsdd)+isp>=nnn:\n",
    "        break"
   ]
  },
  {
   "cell_type": "code",
   "execution_count": 23,
   "metadata": {},
   "outputs": [
    {
     "name": "stdout",
     "output_type": "stream",
     "text": [
      "VECM                   60 mse_r  5.5014 mse_p    0.00 wr  0.5625 wrp    0.11 len   96\n",
      "VECM                   72 mse_r 31.8217 mse_p    0.08 wr  0.5312 wrp    0.27 len   96\n",
      "VECM                   84 mse_r  6.1293 mse_p    0.00 wr  0.5208 wrp    0.34 len   96\n",
      "VECM                   96 mse_r  3.5354 mse_p    0.00 wr  0.4375 wrp    0.11 len   96\n",
      "VECM                  108 mse_r  2.6877 mse_p    0.00 wr  0.3854 wrp    0.01 len   96\n",
      "VECM                  120 mse_r  3.0278 mse_p    0.00 wr  0.4375 wrp    0.11 len   96\n",
      "VECM                  132 mse_r  3.1649 mse_p    0.00 wr  0.3750 wrp    0.01 len   96\n",
      "VECM                  144 mse_r  2.9473 mse_p    0.00 wr  0.3542 wrp    0.00 len   96\n",
      "VECM                  156 mse_r  2.6121 mse_p    0.00 wr  0.3333 wrp    0.00 len   96\n",
      "VECM                  168 mse_r  2.4917 mse_p    0.00 wr  0.3958 wrp    0.02 len   96\n",
      "VECM                  180 mse_r  2.2909 mse_p    0.00 wr  0.3958 wrp    0.02 len   96\n",
      "VECM                  192 mse_r  2.0102 mse_p    0.00 wr  0.4479 wrp    0.15 len   96\n",
      "VECM                  204 mse_r  1.6938 mse_p    0.00 wr  0.4792 wrp    0.34 len   96\n",
      "VECM                  216 mse_r  2.2502 mse_p    0.00 wr  0.2812 wrp    0.00 len   96\n",
      "VECM                  228 mse_r  2.3476 mse_p    0.00 wr  0.3125 wrp    0.00 len   96\n"
     ]
    }
   ],
   "source": [
    "pstart=datetime.date(1995,1,1)\n",
    "pend=datetime.date(2007,12,31)        \n",
    "nn=len(tsd.loc[pstart:pend])\n",
    "interval=1\n",
    "model='VECM'\n",
    "oosp=60\n",
    "for isp in range(60,oosp*200,12):#10,pt):\n",
    "    ps=pstart-relativedelta(months=isp*interval-1)\n",
    "    tsdd=tsd.loc[ps:pend]\n",
    "    if (len(tsdd)-isp==nn) or (len(tsdd)-isp==nn-1):\n",
    "        real0,real9,pred=backtest_VECM(tsdd,isp,oosp,'ci')\n",
    "        performance_report(real0,real9,pred)\n",
    "    if len(tsdd)+isp>=nnn:\n",
    "        break        "
   ]
  },
  {
   "cell_type": "code",
   "execution_count": 24,
   "metadata": {},
   "outputs": [
    {
     "name": "stdout",
     "output_type": "stream",
     "text": [
      "VECM                   60 mse_r  2.1720 mse_p    0.00 wr  0.2500 wrp    0.00 len   84\n",
      "VECM                   72 mse_r  1.5244 mse_p    0.00 wr  0.4048 wrp    0.04 len   84\n",
      "VECM                   84 mse_r  1.3775 mse_p    0.00 wr  0.4167 wrp    0.06 len   84\n",
      "VECM                   96 mse_r  1.5547 mse_p    0.00 wr  0.2381 wrp    0.00 len   84\n",
      "VECM                  108 mse_r  1.7751 mse_p    0.00 wr  0.2738 wrp    0.00 len   84\n",
      "VECM                  120 mse_r  1.7249 mse_p    0.00 wr  0.3333 wrp    0.00 len   84\n",
      "VECM                  132 mse_r  1.6730 mse_p    0.00 wr  0.2500 wrp    0.00 len   84\n",
      "VECM                  144 mse_r  1.6305 mse_p    0.00 wr  0.2857 wrp    0.00 len   84\n",
      "VECM                  156 mse_r  1.5995 mse_p    0.00 wr  0.4048 wrp    0.04 len   84\n",
      "VECM                  168 mse_r  1.6001 mse_p    0.00 wr  0.4524 wrp    0.19 len   84\n",
      "VECM                  180 mse_r  1.3722 mse_p    0.01 wr  0.4762 wrp    0.33 len   84\n",
      "VECM                  192 mse_r  1.1727 mse_p    0.09 wr  0.5714 wrp    0.10 len   84\n",
      "VECM                  204 mse_r  1.2082 mse_p    0.04 wr  0.6786 wrp    0.00 len   84\n",
      "VECM                  216 mse_r  1.5043 mse_p    0.00 wr  0.5357 wrp    0.26 len   84\n",
      "VECM                  228 mse_r  1.4688 mse_p    0.00 wr  0.4643 wrp    0.26 len   84\n"
     ]
    }
   ],
   "source": [
    "pstart=datetime.date(2008,1,1)\n",
    "pend=datetime.date(2020,12,31)        \n",
    "nn=len(tsd.loc[pstart:pend])\n",
    "interval=1\n",
    "model='VECM'\n",
    "oosp=60\n",
    "for isp in range(oosp*1,oosp*200,12):#10,pt):\n",
    "    ps=pstart-relativedelta(months=isp*interval-1)\n",
    "    tsdd=tsd.loc[ps:pend]\n",
    "    if (len(tsdd)-isp==nn) or (len(tsdd)-isp==nn-1):\n",
    "        real0,real9,pred=backtest_VECM(tsdd,isp,oosp,'ci')\n",
    "        performance_report(real0,real9,pred)\n",
    "    if len(tsdd)+isp>=nnn:\n",
    "        break        "
   ]
  },
  {
   "cell_type": "code",
   "execution_count": null,
   "metadata": {},
   "outputs": [],
   "source": []
  }
 ],
 "metadata": {
  "anaconda-cloud": {},
  "kernelspec": {
   "display_name": "Python 3",
   "language": "python",
   "name": "python3"
  },
  "language_info": {
   "codemirror_mode": {
    "name": "ipython",
    "version": 3
   },
   "file_extension": ".py",
   "mimetype": "text/x-python",
   "name": "python",
   "nbconvert_exporter": "python",
   "pygments_lexer": "ipython3",
   "version": "3.7.3"
  }
 },
 "nbformat": 4,
 "nbformat_minor": 1
}
