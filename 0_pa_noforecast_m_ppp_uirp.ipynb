{
 "cells": [
  {
   "cell_type": "markdown",
   "metadata": {},
   "source": [
    "# Paity analysis\n",
    "basic: no forecast  \n",
    "m: montly data\n",
    "\n",
    "- usdjpy : \"DEXJPUS\",\"fred\"\n",
    "\n",
    "## purchasing power parity\n",
    "\n",
    "\n",
    "### consumer price index\n",
    "\n",
    "- \"USACPIALLMINMEI\",\"fred\"\n",
    "- \"JPNCPIALLMINMEI\",\"fred\"\n",
    "\n",
    "### purchasing price index\n",
    "\n",
    "- \"PPIACO\",\"fred\"\n",
    "- \"PITGCG01JPM661N\",\"fred\"\n",
    "\n",
    "## interest rate parity\n",
    "### 1month\n",
    "\n",
    "- \"USD1MTD156N\",\"fred\"\n",
    "- \"JPY1MTD156N\",\"fred\"\n",
    "\n",
    "### 3 months\n",
    "\n",
    "- \"USD3MTD156N\",\"fred\"\n",
    "- \"JPY3MTD156N\",\"fred\"\n",
    "\n",
    "### 6 months\n",
    "\n",
    "- \"USD6MTD156N\",\"fred\"\n",
    "- \"JPY6MTD156N\",\"fred\"\n",
    "\n",
    "### 12 months\n",
    "\n",
    "- \"USD12MD156N\",\"fred\"\n",
    "- \"JPY12MD156N\",\"fred\"\n",
    "\n"
   ]
  },
  {
   "cell_type": "code",
   "execution_count": 1,
   "metadata": {},
   "outputs": [],
   "source": [
    "%matplotlib inline\n",
    "import datetime\n",
    "import pandas_datareader.data as web\n",
    "import numpy as np\n",
    "import statsmodels.api as sm\n",
    "import matplotlib.pyplot as plt\n",
    "import pandas as pd\n",
    "from sklearn.metrics import mean_squared_error\n",
    "from scipy.stats import norm\n",
    "from statsmodels.tsa.api import VECM\n",
    "start=\"1971/1/1\";end='2019/12/31'\n",
    "from dateutil.relativedelta import relativedelta\n",
    "from scipy.stats import t\n",
    "from scipy.stats import norm\n",
    "def tcdf(x,n): #t-distribution\n",
    "    if x>=0:\n",
    "        y=(1-t.cdf(x,n))\n",
    "    else:\n",
    "        y=t.cdf(x,n)\n",
    "    return y\n",
    "def ncdf(x): #t-distribution\n",
    "    if x>=0:\n",
    "        y=(1-norm.cdf(x))\n",
    "    else:\n",
    "        y=norm.cdf(x)\n",
    "    return y"
   ]
  },
  {
   "cell_type": "code",
   "execution_count": 286,
   "metadata": {},
   "outputs": [
    {
     "data": {
      "text/plain": [
       "[<matplotlib.lines.Line2D at 0x18eb3ac2dd8>]"
      ]
     },
     "execution_count": 286,
     "metadata": {},
     "output_type": "execute_result"
    },
    {
     "data": {
      "image/png": "[encoded data removed]",
      "text/plain": [
       "<Figure size 432x288 with 1 Axes>"
      ]
     },
     "metadata": {
      "needs_background": "light"
     },
     "output_type": "display_data"
    }
   ],
   "source": [
    "x=np.linspace(-5,5,100)\n",
    "xxx=[]\n",
    "for xx in x:\n",
    "    xxx.append(ncdf(xx))\n",
    "plt.plot(x,xxx)\n",
    "xxx=[]\n",
    "for xx in x:\n",
    "    xxx.append(t.pdf(xx,2))\n",
    "plt.plot(x,xxx)\n",
    "xxx=[]\n",
    "for xx in x:\n",
    "    xxx.append(norm.pdf(xx))\n",
    "plt.plot(x,xxx)\n"
   ]
  },
  {
   "cell_type": "markdown",
   "metadata": {},
   "source": [
    "# CPI"
   ]
  },
  {
   "cell_type": "code",
   "execution_count": 287,
   "metadata": {},
   "outputs": [],
   "source": [
    "e =web.DataReader(\"DEXJPUS\",\"fred\",start,end)\n",
    "p1 =web.DataReader(\"USACPIALLMINMEI\",\"fred\",start,end)#m\n",
    "p2 =web.DataReader(\"JPNCPIALLMINMEI\",\"fred\",start,end)#m"
   ]
  },
  {
   "cell_type": "code",
   "execution_count": 288,
   "metadata": {},
   "outputs": [
    {
     "name": "stdout",
     "output_type": "stream",
     "text": [
      "                ee         p1    p2\n",
      "DATE                               \n",
      "1971-01-01  357.72  16.792044  32.8\n",
      "1971-02-01  357.56  16.834236  32.8\n",
      "1971-03-01  357.42  16.876427  32.9\n",
      "1971-04-01  357.40  16.918618  33.3\n",
      "1971-05-01  357.40  17.003000  33.4\n",
      "                ee          p1     p2\n",
      "DATE                                 \n",
      "2019-08-01  106.30  108.244556  101.8\n",
      "2019-09-01  108.11  108.329360  101.9\n",
      "2019-10-01  108.09  108.577022  102.2\n",
      "2019-11-01  109.47  108.518798  102.3\n",
      "2019-12-01  108.67  108.420071  102.3\n"
     ]
    }
   ],
   "source": [
    "ee=e.copy().resample('MS').last()\n",
    "tsd=pd.concat([ee,p1,p2],axis=1)\n",
    "tsd.columns=['ee','p1','p2']\n",
    "print(tsd.head())\n",
    "print(tsd.tail())"
   ]
  },
  {
   "cell_type": "code",
   "execution_count": 289,
   "metadata": {},
   "outputs": [],
   "source": [
    "def backtest(tsd,tw,pt):#tw time window pt:predicting time\n",
    "    pred=[]\n",
    "    real0=[]\n",
    "    real9=[]\n",
    "    for i in range(tw,len(tsd)+1):\n",
    "        y0=tsd.iloc[i-tw:i:1,0]\n",
    "        x0=tsd.iloc[i-tw:i:1,2]/tsd.iloc[i-tw:i:1,1]\n",
    "        a=(y0/x0).mean()\n",
    "        real0.append(tsd.iloc[i-1:i,0][-1])\n",
    "        if i<len(tsd)+1-pt:\n",
    "            x9=tsd.iloc[i-1:i+pt:1,2]/tsd.iloc[i-1:i+pt:1,1]\n",
    "            pred.append(a*x9.iloc[-1])\n",
    "            real9.append(tsd.iloc[i+pt-1:i+pt:1,0].values)\n",
    "    return real0,real9,pred\n",
    "\n",
    "def performance_eval(real0,real9,pred):\n",
    "    p0=pd.DataFrame(real0)\n",
    "    p9=pd.DataFrame(real9)\n",
    "    pp=pd.DataFrame(pred)\n",
    "    p0_=p0[:len(p9)]\n",
    "    pp_=pp[:len(p9)]\n",
    "    wrs=p0_[(p9<p0_)&(pp_<p0_)].count()\n",
    "    wrl=p0_[(p9>p0_)&(pp_>p0_)].count()\n",
    "    wr=float((wrs+wrl)/p0_.count())\n",
    "    #wrp=t.cdf(float((wr-0.5)/np.sqrt(0.25/p0_.count())),p0_.count())[0]\n",
    "    wrp=ncdf(float((wr-0.5)/np.sqrt(0.25/p0_.count())))\n",
    "    d_x=(pp_-p9)**2\n",
    "    d_rw=(p9-p0_)**2\n",
    "    d=d_x-d_rw\n",
    "    d_=float(d.mean())\n",
    "    #dm=tcdf(float(d_/np.sqrt(((d-d_)**2).sum()/len(d)**2)),p0_.count())[0]\n",
    "    dm=ncdf(float(d_/np.sqrt(((d-d_)**2).sum()/len(d)**2)))\n",
    "    #print(dm)\n",
    "    rmse=float(d_x.mean()/d_rw.mean())\n",
    "    return rmse,dm,wr,wrp\n",
    "\n",
    "def performance_report(real0,real9,pred):\n",
    "    ab,dm,wr,wrp=performance_eval(real0,real9,pred)\n",
    "    print('{0:20s}{1:5d} mse_r {2:7.4f} mse_p {3:7.2f} wr {4:7.4f} wrp {5:7.2f} len {6:4d}'\n",
    "          .format(model,isp,ab,dm,wr,wrp,len(real9)))    "
   ]
  },
  {
   "cell_type": "code",
   "execution_count": 292,
   "metadata": {},
   "outputs": [
    {
     "name": "stdout",
     "output_type": "stream",
     "text": [
      "1 1971-01-01 1971-01-01\n",
      "1\n",
      "none                    1 mse_r  1.0422 mse_p    0.21 wr  0.4615 wrp    0.18 len  143\n",
      "1 1971-01-01 1971-01-01\n",
      "3\n",
      "none                    1 mse_r  1.1335 mse_p    0.01 wr  0.4610 wrp    0.18 len  141\n",
      "1 1971-01-01 1971-01-01\n",
      "6\n",
      "none                    1 mse_r  1.1630 mse_p    0.00 wr  0.3913 wrp    0.01 len  138\n",
      "1 1971-01-01 1971-01-01\n",
      "12\n",
      "none                    1 mse_r  1.1795 mse_p    0.00 wr  0.4091 wrp    0.02 len  132\n",
      "1 1971-01-01 1971-01-01\n",
      "24\n",
      "none                    1 mse_r  1.4122 mse_p    0.00 wr  0.3833 wrp    0.01 len  120\n",
      "1 1971-01-01 1971-01-01\n",
      "36\n",
      "none                    1 mse_r  1.7186 mse_p    0.00 wr  0.4630 wrp    0.22 len  108\n",
      "1 1971-01-01 1971-01-01\n",
      "48\n",
      "none                    1 mse_r  1.7485 mse_p    0.00 wr  0.4896 wrp    0.42 len   96\n",
      "1 1971-01-01 1971-01-01\n",
      "60\n",
      "none                    1 mse_r  2.0437 mse_p    0.00 wr  0.5119 wrp    0.41 len   84\n"
     ]
    }
   ],
   "source": [
    "pstart=datetime.date(1971,1,1)\n",
    "pend=datetime.date(1982,12,31)        \n",
    "model='none'\n",
    "for oosp in [1,3,6,12,24,36,48,60]:#predicting time window\n",
    "    nn=len(tsd.loc[pstart:pend])#available number of data point\n",
    "    for isp in range(1,2,12):#10,pt):\n",
    "        ps=pstart-relativedelta(months=isp*1-1)\n",
    "        tsdd=tsd.loc[ps:pend]\n",
    "        print(isp,pstart,ps)\n",
    "        if (len(tsdd)-isp==nn) or (len(tsdd)-isp==nn-1):\n",
    "            real0,real9,pred=backtest(tsdd,isp,oosp)\n",
    "            print(oosp)\n",
    "            performance_report(real0,real9,pred)"
   ]
  },
  {
   "cell_type": "code",
   "execution_count": 243,
   "metadata": {},
   "outputs": [
    {
     "name": "stdout",
     "output_type": "stream",
     "text": [
      "1\n",
      "none                    1 mse_r  1.0291 mse_p    0.14 wr  0.4825 wrp    0.34 len  143\n",
      "3\n",
      "none                    1 mse_r  0.9904 mse_p    0.36 wr  0.5248 wrp    0.28 len  141\n",
      "6\n",
      "none                    1 mse_r  0.9337 mse_p    0.00 wr  0.6377 wrp    0.00 len  138\n",
      "12\n",
      "none                    1 mse_r  0.8950 mse_p    0.00 wr  0.7576 wrp    0.00 len  132\n",
      "24\n",
      "none                    1 mse_r  0.7958 mse_p    0.00 wr  0.7750 wrp    0.00 len  120\n",
      "36\n",
      "none                    1 mse_r  0.7080 mse_p    0.00 wr  0.8148 wrp    0.00 len  108\n",
      "48\n",
      "none                    1 mse_r  0.6211 mse_p    0.00 wr  0.9375 wrp    0.00 len   96\n",
      "60\n",
      "none                    1 mse_r  0.5216 mse_p    0.00 wr  0.9881 wrp    0.00 len   84\n"
     ]
    }
   ],
   "source": [
    "pstart=datetime.date(1983,1,1)\n",
    "pend=datetime.date(1994,12,31)        \n",
    "model='none'\n",
    "for oosp in [1,3,6,12,24,36,48,60]:\n",
    "    nn=len(tsd.loc[pstart:pend])\n",
    "    for isp in range(1,2,12):#10,pt):\n",
    "        ps=pstart-relativedelta(months=isp*1-1)\n",
    "        tsdd=tsd.loc[ps:pend]\n",
    "        if (len(tsdd)-isp==nn) or (len(tsdd)-isp==nn-1):\n",
    "            real0,real9,pred=backtest(tsdd,isp,oosp)\n",
    "            print(oosp)\n",
    "            performance_report(real0,real9,pred)"
   ]
  },
  {
   "cell_type": "code",
   "execution_count": 245,
   "metadata": {},
   "outputs": [
    {
     "name": "stdout",
     "output_type": "stream",
     "text": [
      "1\n",
      "none                    1 mse_r  1.0406 mse_p    0.03 wr  0.4968 wrp    0.47 len  155\n",
      "3\n",
      "none                    1 mse_r  1.0940 mse_p    0.00 wr  0.4052 wrp    0.01 len  153\n",
      "6\n",
      "none                    1 mse_r  1.0921 mse_p    0.00 wr  0.4333 wrp    0.05 len  150\n",
      "12\n",
      "none                    1 mse_r  1.0931 mse_p    0.01 wr  0.4583 wrp    0.16 len  144\n",
      "24\n",
      "none                    1 mse_r  1.1138 mse_p    0.02 wr  0.4242 wrp    0.04 len  132\n",
      "36\n",
      "none                    1 mse_r  1.2293 mse_p    0.00 wr  0.4917 wrp    0.43 len  120\n",
      "48\n",
      "none                    1 mse_r  1.8507 mse_p    0.00 wr  0.5463 wrp    0.17 len  108\n",
      "60\n",
      "none                    1 mse_r  2.3644 mse_p    0.00 wr  0.5000 wrp    0.50 len   96\n"
     ]
    }
   ],
   "source": [
    "pstart=datetime.date(1995,1,1)\n",
    "pend=datetime.date(2007,12,31)        \n",
    "model='none'\n",
    "for oosp in [1,3,6,12,24,36,48,60]:\n",
    "    nn=len(tsd.loc[pstart:pend])\n",
    "    for isp in range(1,2,12):#10,pt):\n",
    "        ps=pstart-relativedelta(months=isp*1-1)\n",
    "        tsdd=tsd.loc[ps:pend]\n",
    "        if (len(tsdd)-isp==nn) or (len(tsdd)-isp==nn-1):\n",
    "            real0,real9,pred=backtest(tsdd,isp,oosp)\n",
    "            print(oosp)\n",
    "            performance_report(real0,real9,pred)"
   ]
  },
  {
   "cell_type": "code",
   "execution_count": 247,
   "metadata": {},
   "outputs": [
    {
     "name": "stdout",
     "output_type": "stream",
     "text": [
      "1\n",
      "none                    1 mse_r  1.0353 mse_p    0.09 wr  0.5105 wrp    0.40 len  143\n",
      "3\n",
      "none                    1 mse_r  1.0332 mse_p    0.20 wr  0.5603 wrp    0.08 len  141\n",
      "6\n",
      "none                    1 mse_r  0.9898 mse_p    0.38 wr  0.5942 wrp    0.01 len  138\n",
      "12\n",
      "none                    1 mse_r  0.9118 mse_p    0.00 wr  0.7197 wrp    0.00 len  132\n",
      "24\n",
      "none                    1 mse_r  0.8731 mse_p    0.00 wr  0.7667 wrp    0.00 len  120\n",
      "36\n",
      "none                    1 mse_r  0.9247 mse_p    0.00 wr  0.5926 wrp    0.03 len  108\n",
      "48\n",
      "none                    1 mse_r  1.0180 mse_p    0.28 wr  0.3021 wrp    0.00 len   96\n",
      "60\n",
      "none                    1 mse_r  1.2358 mse_p    0.00 wr  0.1667 wrp    0.00 len   84\n"
     ]
    }
   ],
   "source": [
    "pstart=datetime.date(2008,1,1)\n",
    "pend=datetime.date(2020,12,31)        \n",
    "model='none'\n",
    "for oosp in [1,3,6,12,24,36,48,60]:\n",
    "    nn=len(tsd.loc[pstart:pend])\n",
    "    for isp in range(1,2,12):#10,pt):\n",
    "        ps=pstart-relativedelta(months=isp*1-1)\n",
    "        tsdd=tsd.loc[ps:pend]\n",
    "        if (len(tsdd)-isp==nn) or (len(tsdd)-isp==nn-1):\n",
    "            real0,real9,pred=backtest(tsdd,isp,oosp)\n",
    "            print(oosp)\n",
    "            performance_report(real0,real9,pred)"
   ]
  },
  {
   "cell_type": "markdown",
   "metadata": {},
   "source": [
    "# PPI"
   ]
  },
  {
   "cell_type": "code",
   "execution_count": 249,
   "metadata": {},
   "outputs": [
    {
     "name": "stdout",
     "output_type": "stream",
     "text": [
      "                ee    p1         p2\n",
      "DATE                               \n",
      "1971-01-01  357.72  37.3  67.280863\n",
      "1971-02-01  357.56  37.7  67.280863\n",
      "1971-03-01  357.42  37.8  67.379515\n",
      "1971-04-01  357.40  37.9  67.478167\n",
      "1971-05-01  357.40  38.1  67.774124\n",
      "                ee     p1    p2\n",
      "DATE                           \n",
      "2019-08-01  106.30  199.2  95.4\n",
      "2019-09-01  108.11  198.4  95.5\n",
      "2019-10-01  108.09  198.6  95.3\n",
      "2019-11-01  109.47  199.0  95.3\n",
      "2019-12-01  108.67  199.2  95.7\n"
     ]
    }
   ],
   "source": [
    "p1 =web.DataReader(\"PPIACO\",\"fred\",start,end)#m\n",
    "p2 =web.DataReader(\"PITGCG01JPM661N\",\"fred\",start,end)#m\n",
    "tsd=pd.concat([ee,p1,p2],axis=1)\n",
    "tsd.columns=['ee','p1','p2']\n",
    "print(tsd.head())\n",
    "print(tsd.tail())\n",
    "pstart=datetime.date(1983,1,1)\n",
    "#pend=datetime.date(1995,12,31)        \n",
    "pend=datetime.date(2020,12,31) "
   ]
  },
  {
   "cell_type": "code",
   "execution_count": 250,
   "metadata": {},
   "outputs": [
    {
     "name": "stdout",
     "output_type": "stream",
     "text": [
      "1\n",
      "none                    1 mse_r  1.0896 mse_p    0.03 wr  0.5175 wrp    0.34 len  143\n",
      "3\n",
      "none                    1 mse_r  1.0450 mse_p    0.22 wr  0.5177 wrp    0.34 len  141\n",
      "6\n",
      "none                    1 mse_r  0.9739 mse_p    0.33 wr  0.5652 wrp    0.06 len  138\n",
      "12\n",
      "none                    1 mse_r  0.8319 mse_p    0.01 wr  0.5909 wrp    0.02 len  132\n",
      "24\n",
      "none                    1 mse_r  0.7659 mse_p    0.00 wr  0.5500 wrp    0.14 len  120\n",
      "36\n",
      "none                    1 mse_r  0.7195 mse_p    0.00 wr  0.7315 wrp    0.00 len  108\n",
      "48\n",
      "none                    1 mse_r  0.5460 mse_p    0.00 wr  0.8438 wrp    0.00 len   96\n",
      "60\n",
      "none                    1 mse_r  0.3045 mse_p    0.00 wr  0.9643 wrp    0.00 len   84\n"
     ]
    },
    {
     "data": {
      "text/plain": [
       "<matplotlib.legend.Legend at 0x18eb077bb70>"
      ]
     },
     "execution_count": 250,
     "metadata": {},
     "output_type": "execute_result"
    },
    {
     "data": {
      "image/png": "[encoded data removed]",
      "text/plain": [
       "<Figure size 432x288 with 1 Axes>"
      ]
     },
     "metadata": {
      "needs_background": "light"
     },
     "output_type": "display_data"
    }
   ],
   "source": [
    "pstart=datetime.date(1971,1,1)\n",
    "pend=datetime.date(1982,12,31)        \n",
    "model='none'\n",
    "for oosp in [1,3,6,12,24,36,48,60]:\n",
    "    nn=len(tsd.loc[pstart:pend])\n",
    "    for isp in range(1,2,12):#10,pt):\n",
    "        ps=pstart-relativedelta(months=isp*1-1)\n",
    "        tsdd=tsd.loc[ps:pend]\n",
    "        if (len(tsdd)-isp==nn) or (len(tsdd)-isp==nn-1):\n",
    "            real0,real9,pred=backtest(tsdd,isp,oosp)\n",
    "            print(oosp)\n",
    "            performance_report(real0,real9,pred)\n",
    "plt.plot(real0[:],label='c')\n",
    "plt.plot(real9[:],label='c9')\n",
    "plt.plot(pred[:],label='pred')\n",
    "plt.legend()"
   ]
  },
  {
   "cell_type": "code",
   "execution_count": 251,
   "metadata": {},
   "outputs": [
    {
     "name": "stdout",
     "output_type": "stream",
     "text": [
      "1\n",
      "none                    1 mse_r  1.0014 mse_p    0.48 wr  0.5524 wrp    0.10 len  143\n",
      "3\n",
      "none                    1 mse_r  0.9685 mse_p    0.25 wr  0.5745 wrp    0.04 len  141\n",
      "6\n",
      "none                    1 mse_r  0.9561 mse_p    0.09 wr  0.6957 wrp    0.00 len  138\n",
      "12\n",
      "none                    1 mse_r  0.9734 mse_p    0.14 wr  0.6439 wrp    0.00 len  132\n",
      "24\n",
      "none                    1 mse_r  0.8868 mse_p    0.00 wr  0.6083 wrp    0.01 len  120\n",
      "36\n",
      "none                    1 mse_r  0.7701 mse_p    0.00 wr  0.7593 wrp    0.00 len  108\n",
      "48\n",
      "none                    1 mse_r  0.6227 mse_p    0.00 wr  0.9375 wrp    0.00 len   96\n",
      "60\n",
      "none                    1 mse_r  0.4777 mse_p    0.00 wr  0.9881 wrp    0.00 len   84\n"
     ]
    },
    {
     "data": {
      "text/plain": [
       "<matplotlib.legend.Legend at 0x18eb315b208>"
      ]
     },
     "execution_count": 251,
     "metadata": {},
     "output_type": "execute_result"
    },
    {
     "data": {
      "image/png": "[encoded data removed]",
      "text/plain": [
       "<Figure size 432x288 with 1 Axes>"
      ]
     },
     "metadata": {
      "needs_background": "light"
     },
     "output_type": "display_data"
    }
   ],
   "source": [
    "pstart=datetime.date(1983,1,1)\n",
    "pend=datetime.date(1994,12,31)        \n",
    "model='none'\n",
    "for oosp in [1,3,6,12,24,36,48,60]:\n",
    "    nn=len(tsd.loc[pstart:pend])\n",
    "    for isp in range(1,2,12):#10,pt):\n",
    "        ps=pstart-relativedelta(months=isp*1-1)\n",
    "        tsdd=tsd.loc[ps:pend]\n",
    "        if (len(tsdd)-isp==nn) or (len(tsdd)-isp==nn-1):\n",
    "            real0,real9,pred=backtest(tsdd,isp,oosp)\n",
    "            print(oosp)\n",
    "            performance_report(real0,real9,pred)\n",
    "plt.plot(real0[:],label='c')\n",
    "plt.plot(real9[:],label='c9')\n",
    "plt.plot(pred[:],label='pred')\n",
    "plt.legend()"
   ]
  },
  {
   "cell_type": "code",
   "execution_count": 252,
   "metadata": {},
   "outputs": [
    {
     "name": "stdout",
     "output_type": "stream",
     "text": [
      "1\n",
      "none                    1 mse_r  0.9760 mse_p    0.30 wr  0.5548 wrp    0.09 len  155\n",
      "3\n",
      "none                    1 mse_r  0.9810 mse_p    0.33 wr  0.5033 wrp    0.47 len  153\n",
      "6\n",
      "none                    1 mse_r  1.0259 mse_p    0.30 wr  0.5400 wrp    0.16 len  150\n",
      "12\n",
      "none                    1 mse_r  1.0544 mse_p    0.20 wr  0.4931 wrp    0.43 len  144\n",
      "24\n",
      "none                    1 mse_r  1.1075 mse_p    0.08 wr  0.4470 wrp    0.11 len  132\n",
      "36\n",
      "none                    1 mse_r  1.3415 mse_p    0.00 wr  0.5000 wrp    0.50 len  120\n",
      "48\n",
      "none                    1 mse_r  2.7379 mse_p    0.00 wr  0.5463 wrp    0.17 len  108\n",
      "60\n",
      "none                    1 mse_r  3.5825 mse_p    0.00 wr  0.5000 wrp    0.50 len   96\n"
     ]
    },
    {
     "data": {
      "text/plain": [
       "<matplotlib.legend.Legend at 0x18eb31c3630>"
      ]
     },
     "execution_count": 252,
     "metadata": {},
     "output_type": "execute_result"
    },
    {
     "data": {
      "image/png": "[encoded data removed]",
      "text/plain": [
       "<Figure size 432x288 with 1 Axes>"
      ]
     },
     "metadata": {
      "needs_background": "light"
     },
     "output_type": "display_data"
    }
   ],
   "source": [
    "pstart=datetime.date(1995,1,1)\n",
    "pend=datetime.date(2007,12,31)        \n",
    "model='none'\n",
    "for oosp in [1,3,6,12,24,36,48,60]:\n",
    "    nn=len(tsd.loc[pstart:pend])\n",
    "    for isp in range(1,2,12):#10,pt):\n",
    "        ps=pstart-relativedelta(months=isp*1-1)\n",
    "        tsdd=tsd.loc[ps:pend]\n",
    "        if (len(tsdd)-isp==nn) or (len(tsdd)-isp==nn-1):\n",
    "            real0,real9,pred=backtest(tsdd,isp,oosp)\n",
    "            print(oosp)\n",
    "            performance_report(real0,real9,pred)\n",
    "plt.plot(real0[:],label='c')\n",
    "plt.plot(real9[:],label='c9')\n",
    "plt.plot(pred[:],label='pred')\n",
    "plt.legend()"
   ]
  },
  {
   "cell_type": "code",
   "execution_count": 253,
   "metadata": {},
   "outputs": [
    {
     "name": "stdout",
     "output_type": "stream",
     "text": [
      "1\n",
      "none                    1 mse_r  1.0625 mse_p    0.27 wr  0.5944 wrp    0.01 len  143\n",
      "3\n",
      "none                    1 mse_r  1.1405 mse_p    0.19 wr  0.6809 wrp    0.00 len  141\n",
      "6\n",
      "none                    1 mse_r  1.0773 mse_p    0.31 wr  0.6159 wrp    0.00 len  138\n",
      "12\n",
      "none                    1 mse_r  0.8763 mse_p    0.07 wr  0.6364 wrp    0.00 len  132\n",
      "24\n",
      "none                    1 mse_r  0.7184 mse_p    0.00 wr  0.7833 wrp    0.00 len  120\n",
      "36\n",
      "none                    1 mse_r  0.7011 mse_p    0.00 wr  0.7593 wrp    0.00 len  108\n",
      "48\n",
      "none                    1 mse_r  0.8085 mse_p    0.00 wr  0.7188 wrp    0.00 len   96\n",
      "60\n",
      "none                    1 mse_r  1.0544 mse_p    0.17 wr  0.5595 wrp    0.14 len   84\n"
     ]
    },
    {
     "data": {
      "text/plain": [
       "<matplotlib.legend.Legend at 0x18eb326ff98>"
      ]
     },
     "execution_count": 253,
     "metadata": {},
     "output_type": "execute_result"
    },
    {
     "data": {
      "image/png": "[encoded data removed]",
      "text/plain": [
       "<Figure size 432x288 with 1 Axes>"
      ]
     },
     "metadata": {
      "needs_background": "light"
     },
     "output_type": "display_data"
    }
   ],
   "source": [
    "pstart=datetime.date(2008,1,1)\n",
    "pend=datetime.date(2020,12,31)        \n",
    "model='none'\n",
    "for oosp in [1,3,6,12,24,36,48,60]:\n",
    "    nn=len(tsd.loc[pstart:pend])\n",
    "    for isp in range(1,2,12):#10,pt):\n",
    "        ps=pstart-relativedelta(months=isp*1-1)\n",
    "        tsdd=tsd.loc[ps:pend]\n",
    "        if (len(tsdd)-isp==nn) or (len(tsdd)-isp==nn-1):\n",
    "            real0,real9,pred=backtest(tsdd,isp,oosp)\n",
    "            print(oosp)\n",
    "            performance_report(real0,real9,pred)\n",
    "plt.plot(real0[:],label='c')\n",
    "plt.plot(real9[:],label='c9')\n",
    "plt.plot(pred[:],label='pred')\n",
    "plt.legend()"
   ]
  },
  {
   "cell_type": "markdown",
   "metadata": {},
   "source": [
    "# irp "
   ]
  },
  {
   "cell_type": "code",
   "execution_count": 254,
   "metadata": {},
   "outputs": [],
   "source": [
    "start=\"1989/1/1\";end='2019/12/31'\n",
    "e =web.DataReader(\"DEXJPUS\",\"fred\",start,end)\n",
    "r1 =web.DataReader(\"gs10\",\"fred\",start,end)#q\n",
    "r2 =web.DataReader(\"IRLTLT01JPM156N\",\"fred\",start,end)#q"
   ]
  },
  {
   "cell_type": "code",
   "execution_count": 255,
   "metadata": {},
   "outputs": [
    {
     "data": {
      "text/plain": [
       "(            DEXJPUS\n",
       " DATE               \n",
       " 1989-01-02      NaN,             gs10\n",
       " DATE            \n",
       " 1989-01-01  9.09,             IRLTLT01JPM156N\n",
       " DATE                       \n",
       " 1989-01-01              4.8)"
      ]
     },
     "execution_count": 255,
     "metadata": {},
     "output_type": "execute_result"
    }
   ],
   "source": [
    "e.head(1),r1.head(1),r2.head(1)"
   ]
  },
  {
   "cell_type": "code",
   "execution_count": 256,
   "metadata": {},
   "outputs": [
    {
     "name": "stdout",
     "output_type": "stream",
     "text": [
      "                ee    r1     r2\n",
      "DATE                           \n",
      "1989-01-01  130.50  9.09  4.800\n",
      "1989-02-01  126.87  9.17  4.894\n",
      "1989-03-01  132.77  9.36  5.147\n",
      "1989-04-01  132.85  9.18  5.221\n",
      "1989-05-01  142.33  8.86  5.174\n",
      "                ee    r1     r2\n",
      "DATE                           \n",
      "2019-08-01  106.30  1.63 -0.280\n",
      "2019-09-01  108.11  1.70 -0.215\n",
      "2019-10-01  108.09  1.71 -0.150\n",
      "2019-11-01  109.47  1.81 -0.080\n",
      "2019-12-01  108.67  1.86 -0.025\n"
     ]
    }
   ],
   "source": [
    "ee=e.copy().resample('MS').last()\n",
    "tsd=pd.concat([ee,r1,r2],axis=1)\n",
    "tsd.columns=['ee','r1','r2']\n",
    "print(tsd.head())\n",
    "print(tsd.tail())\n",
    "pstart=datetime.date(1989,1,1)\n",
    "#pend=datetime.date(1995,12,31)        \n",
    "pend=datetime.date(2020,12,31)        "
   ]
  },
  {
   "cell_type": "code",
   "execution_count": 257,
   "metadata": {},
   "outputs": [],
   "source": [
    "def backtest(tsd,tw,pt):#tw time window pt:predicting time\n",
    "    pred=[]\n",
    "    real0=[]\n",
    "    real9=[]\n",
    "    for i in range(tw+1,len(tsd)+1-1):\n",
    "        yy=tsd.iloc[i-tw:i:1,0]\n",
    "        y0=tsd.iloc[i-tw:i:1,0]\n",
    "        x0=((1+tsd.iloc[i-tw:i:1,2]/100)/(1+tsd.iloc[i-tw:i:1,1]/100))**(1/12*pt)\n",
    "        real0.append(tsd.iloc[i-1:i,0][-1])\n",
    "        if i<len(tsd)+1-pt:\n",
    "            pred.append(y0.values*x0.values)\n",
    "            real9.append(tsd.iloc[i+pt-1:i+pt:1,0].values[0])\n",
    "    return real0,real9,pred"
   ]
  },
  {
   "cell_type": "code",
   "execution_count": 258,
   "metadata": {},
   "outputs": [
    {
     "name": "stdout",
     "output_type": "stream",
     "text": [
      "120\n",
      "none                    1 mse_r  2.1805 mse_p    0.00 wr  0.5140 wrp    0.39 len  107\n"
     ]
    }
   ],
   "source": [
    "pstart=datetime.date(1989,1,1)\n",
    "pend=datetime.date(2007,12,31)        \n",
    "model='none'\n",
    "for oosp in [120]:\n",
    "    nn=len(tsd.loc[pstart:pend])\n",
    "    for isp in range(1,2,12):#10,pt):\n",
    "        ps=pstart-relativedelta(months=isp*1-1)\n",
    "        tsdd=tsd.loc[ps:pend]\n",
    "        if (len(tsdd)-isp==nn) or (len(tsdd)-isp==nn-1):\n",
    "            real0,real9,pred=backtest(tsdd,isp,oosp)\n",
    "            print(oosp)\n",
    "            performance_report(real0,real9,pred)"
   ]
  },
  {
   "cell_type": "code",
   "execution_count": 260,
   "metadata": {},
   "outputs": [
    {
     "name": "stdout",
     "output_type": "stream",
     "text": [
      "120\n",
      "none                    1 mse_r  5.0816 mse_p    0.00 wr  0.0000 wrp    0.00 len   23\n"
     ]
    }
   ],
   "source": [
    "pstart=datetime.date(2008,1,1)\n",
    "pend=datetime.date(2020,12,31)        \n",
    "model='none'\n",
    "for oosp in [120]:\n",
    "    nn=len(tsd.loc[pstart:pend])\n",
    "    for isp in range(1,2,12):#10,pt):\n",
    "        ps=pstart-relativedelta(months=isp*1-1)\n",
    "        tsdd=tsd.loc[ps:pend]\n",
    "        if (len(tsdd)-isp==nn) or (len(tsdd)-isp==nn-1):\n",
    "            real0,real9,pred=backtest(tsdd,isp,oosp)\n",
    "            print(oosp)\n",
    "            performance_report(real0,real9,pred)"
   ]
  },
  {
   "cell_type": "markdown",
   "metadata": {},
   "source": [
    "# irs 1m"
   ]
  },
  {
   "cell_type": "code",
   "execution_count": 262,
   "metadata": {},
   "outputs": [
    {
     "name": "stdout",
     "output_type": "stream",
     "text": [
      "                ee      r1      r2\n",
      "DATE                              \n",
      "1986-01-01  192.30  8.0625  6.4375\n",
      "1986-02-01  180.55  7.9375  6.6250\n",
      "1986-03-01  177.60  7.5000  5.6250\n",
      "1986-04-01  167.60  6.9375  5.0000\n",
      "1986-05-01  174.50  7.1250  4.8750\n",
      "                ee       r1       r2\n",
      "DATE                                \n",
      "2019-08-01  106.30  2.08900 -0.12567\n",
      "2019-09-01  108.11  2.01563 -0.10867\n",
      "2019-10-01  108.09  1.78488 -0.11167\n",
      "2019-11-01  109.47  1.69713 -0.19100\n",
      "2019-12-01  108.67  1.76250 -0.08467\n"
     ]
    }
   ],
   "source": [
    "start=\"1986/1/1\";end='2019/12/31'\n",
    "e =web.DataReader(\"DEXJPUS\",\"fred\",start,end)\n",
    "r1 =web.DataReader(\"USD1MTD156N\",\"fred\",start,end)#q\n",
    "r2 =web.DataReader(\"JPY1MTD156N\",\"fred\",start,end)#q\n",
    "ee=e.copy().resample('MS').last()\n",
    "rr1=r1.copy().resample('MS').last()\n",
    "rr2=r2.copy().resample('MS').last()\n",
    "tsd=pd.concat([ee,rr1,rr2],axis=1)\n",
    "tsd.columns=['ee','r1','r2']\n",
    "print(tsd.head())\n",
    "print(tsd.tail())\n",
    "pstart=datetime.date(1989,1,1)\n",
    "pend=datetime.date(2020,12,31)      "
   ]
  },
  {
   "cell_type": "code",
   "execution_count": 263,
   "metadata": {},
   "outputs": [
    {
     "name": "stdout",
     "output_type": "stream",
     "text": [
      "1\n",
      "none                    1 mse_r  0.9962 mse_p    0.38 wr  0.4434 wrp    0.12 len  106\n"
     ]
    }
   ],
   "source": [
    "pstart=datetime.date(1986,1,1)\n",
    "pend=datetime.date(1994,12,31)        \n",
    "model='none'\n",
    "for oosp in [1]:\n",
    "    nn=len(tsd.loc[pstart:pend])\n",
    "    for isp in range(1,2,12):#10,pt):\n",
    "        ps=pstart-relativedelta(months=isp*1-1)\n",
    "        tsdd=tsd.loc[ps:pend]\n",
    "        if (len(tsdd)-isp==nn) or (len(tsdd)-isp==nn-1):\n",
    "            real0,real9,pred=backtest(tsdd,isp,oosp)\n",
    "            print(oosp)\n",
    "            performance_report(real0,real9,pred)"
   ]
  },
  {
   "cell_type": "code",
   "execution_count": 265,
   "metadata": {},
   "outputs": [
    {
     "name": "stdout",
     "output_type": "stream",
     "text": [
      "1\n",
      "none                    1 mse_r  1.0187 mse_p    0.16 wr  0.4610 wrp    0.17 len  154\n"
     ]
    }
   ],
   "source": [
    "pstart=datetime.date(1995,1,1)\n",
    "pend=datetime.date(2007,12,31)        \n",
    "model='none'\n",
    "for oosp in [1]:\n",
    "    nn=len(tsd.loc[pstart:pend])\n",
    "    for isp in range(1,2,12):#10,pt):\n",
    "        ps=pstart-relativedelta(months=isp*1-1)\n",
    "        tsdd=tsd.loc[ps:pend]\n",
    "        if (len(tsdd)-isp==nn) or (len(tsdd)-isp==nn-1):\n",
    "            real0,real9,pred=backtest(tsdd,isp,oosp)\n",
    "            print(oosp)\n",
    "            performance_report(real0,real9,pred)"
   ]
  },
  {
   "cell_type": "code",
   "execution_count": 266,
   "metadata": {},
   "outputs": [
    {
     "name": "stdout",
     "output_type": "stream",
     "text": [
      "1\n",
      "none                    1 mse_r  0.9947 mse_p    0.17 wr  0.5282 wrp    0.25 len  142\n"
     ]
    }
   ],
   "source": [
    "pstart=datetime.date(2008,1,1)\n",
    "pend=datetime.date(2020,12,31)        \n",
    "model='none'\n",
    "for oosp in [1]:\n",
    "    nn=len(tsd.loc[pstart:pend])\n",
    "    for isp in range(1,2,12):#10,pt):\n",
    "        ps=pstart-relativedelta(months=isp*1-1)\n",
    "        tsdd=tsd.loc[ps:pend]\n",
    "        if (len(tsdd)-isp==nn) or (len(tsdd)-isp==nn-1):\n",
    "            real0,real9,pred=backtest(tsdd,isp,oosp)\n",
    "            print(oosp)\n",
    "            performance_report(real0,real9,pred)"
   ]
  },
  {
   "cell_type": "markdown",
   "metadata": {},
   "source": [
    "# irs 3m"
   ]
  },
  {
   "cell_type": "code",
   "execution_count": 267,
   "metadata": {},
   "outputs": [
    {
     "name": "stdout",
     "output_type": "stream",
     "text": [
      "                ee      r1     r2\n",
      "DATE                             \n",
      "1986-01-01  192.30  8.0625  6.250\n",
      "1986-02-01  180.55  7.8750  6.000\n",
      "1986-03-01  177.60  7.4375  5.375\n",
      "1986-04-01  167.60  6.8750  4.875\n",
      "1986-05-01  174.50  7.1250  4.875\n",
      "                ee       r1       r2\n",
      "DATE                                \n",
      "2019-08-01  106.30  2.13763 -0.09200\n",
      "2019-09-01  108.11  2.08513 -0.09917\n",
      "2019-10-01  108.09  1.90225 -0.11500\n",
      "2019-11-01  109.47  1.90550 -0.08350\n",
      "2019-12-01  108.67  1.90838 -0.04733\n"
     ]
    }
   ],
   "source": [
    "r1 =web.DataReader(\"USD3MTD156N\",\"fred\",start,end)#q\n",
    "r2 =web.DataReader(\"JPY3MTD156N\",\"fred\",start,end)#q\n",
    "rr1=r1.copy().resample('MS').last()\n",
    "rr2=r2.copy().resample('MS').last()\n",
    "tsd=pd.concat([ee,rr1,rr2],axis=1)\n",
    "tsd.columns=['ee','r1','r2']\n",
    "print(tsd.head())\n",
    "print(tsd.tail())"
   ]
  },
  {
   "cell_type": "code",
   "execution_count": 268,
   "metadata": {},
   "outputs": [
    {
     "name": "stdout",
     "output_type": "stream",
     "text": [
      "3\n",
      "none                    1 mse_r  0.9909 mse_p    0.33 wr  0.4712 wrp    0.28 len  104\n"
     ]
    }
   ],
   "source": [
    "pstart=datetime.date(1986,1,1)\n",
    "pend=datetime.date(1994,12,31)        \n",
    "model='none'\n",
    "for oosp in [3]:\n",
    "    nn=len(tsd.loc[pstart:pend])\n",
    "    for isp in range(1,2,12):#10,pt):\n",
    "        ps=pstart-relativedelta(months=isp*1-1)\n",
    "        tsdd=tsd.loc[ps:pend]\n",
    "        if (len(tsdd)-isp==nn) or (len(tsdd)-isp==nn-1):\n",
    "            real0,real9,pred=backtest(tsdd,isp,oosp)\n",
    "            print(oosp)\n",
    "            performance_report(real0,real9,pred)"
   ]
  },
  {
   "cell_type": "code",
   "execution_count": 269,
   "metadata": {},
   "outputs": [
    {
     "name": "stdout",
     "output_type": "stream",
     "text": [
      "1\n",
      "none                    1 mse_r  1.0188 mse_p    0.16 wr  0.4610 wrp    0.17 len  154\n"
     ]
    }
   ],
   "source": [
    "pstart=datetime.date(1995,1,1)\n",
    "pend=datetime.date(2007,12,31)        \n",
    "model='none'\n",
    "for oosp in [1]:\n",
    "    nn=len(tsd.loc[pstart:pend])\n",
    "    for isp in range(1,2,12):#10,pt):\n",
    "        ps=pstart-relativedelta(months=isp*1-1)\n",
    "        tsdd=tsd.loc[ps:pend]\n",
    "        if (len(tsdd)-isp==nn) or (len(tsdd)-isp==nn-1):\n",
    "            real0,real9,pred=backtest(tsdd,isp,oosp)\n",
    "            print(oosp)\n",
    "            performance_report(real0,real9,pred)"
   ]
  },
  {
   "cell_type": "code",
   "execution_count": 270,
   "metadata": {},
   "outputs": [
    {
     "name": "stdout",
     "output_type": "stream",
     "text": [
      "3\n",
      "none                    1 mse_r  0.9900 mse_p    0.16 wr  0.5214 wrp    0.31 len  140\n"
     ]
    }
   ],
   "source": [
    "pstart=datetime.date(2008,1,1)\n",
    "pend=datetime.date(2020,12,31)        \n",
    "model='none'\n",
    "for oosp in [3]:\n",
    "    nn=len(tsd.loc[pstart:pend])\n",
    "    for isp in range(1,2,12):#10,pt):\n",
    "        ps=pstart-relativedelta(months=isp*1-1)\n",
    "        tsdd=tsd.loc[ps:pend]\n",
    "        if (len(tsdd)-isp==nn) or (len(tsdd)-isp==nn-1):\n",
    "            real0,real9,pred=backtest(tsdd,isp,oosp)\n",
    "            print(oosp)\n",
    "            performance_report(real0,real9,pred)"
   ]
  },
  {
   "cell_type": "markdown",
   "metadata": {},
   "source": [
    "# irs 6m"
   ]
  },
  {
   "cell_type": "code",
   "execution_count": 271,
   "metadata": {},
   "outputs": [
    {
     "name": "stdout",
     "output_type": "stream",
     "text": [
      "                ee      r1      r2\n",
      "DATE                              \n",
      "1986-01-01  192.30  8.1250  6.1875\n",
      "1986-02-01  180.55  7.8750  5.6875\n",
      "1986-03-01  177.60  7.4375  5.2500\n",
      "1986-04-01  167.60  6.8750  4.7500\n",
      "1986-05-01  174.50  7.1875  4.8750\n",
      "                ee       r1       r2\n",
      "DATE                                \n",
      "2019-08-01  106.30  2.03650 -0.04950\n",
      "2019-09-01  108.11  2.05563 -0.05083\n",
      "2019-10-01  108.09  1.91625 -0.04750\n",
      "2019-11-01  109.47  1.89688 -0.01167\n",
      "2019-12-01  108.67  1.91213  0.01800\n"
     ]
    }
   ],
   "source": [
    "r1 =web.DataReader(\"USD6MTD156N\",\"fred\",start,end)#q\n",
    "r2 =web.DataReader(\"JPY6MTD156N\",\"fred\",start,end)#q\n",
    "rr1=r1.copy().resample('MS').last()\n",
    "rr2=r2.copy().resample('MS').last()\n",
    "tsd=pd.concat([ee,rr1,rr2],axis=1)\n",
    "tsd.columns=['ee','r1','r2']\n",
    "print(tsd.head())\n",
    "print(tsd.tail())"
   ]
  },
  {
   "cell_type": "code",
   "execution_count": 272,
   "metadata": {},
   "outputs": [
    {
     "name": "stdout",
     "output_type": "stream",
     "text": [
      "6\n",
      "none                    1 mse_r  0.9944 mse_p    0.42 wr  0.5487 wrp    0.15 len  113\n"
     ]
    }
   ],
   "source": [
    "pstart=datetime.date(1986,1,1)\n",
    "pend=datetime.date(1995,12,31)        \n",
    "model='none'\n",
    "for oosp in [6]:\n",
    "    nn=len(tsd.loc[pstart:pend])\n",
    "    for isp in range(1,2,12):#10,pt):\n",
    "        ps=pstart-relativedelta(months=isp*1-1)\n",
    "        tsdd=tsd.loc[ps:pend]\n",
    "        if (len(tsdd)-isp==nn) or (len(tsdd)-isp==nn-1):\n",
    "            real0,real9,pred=backtest(tsdd,isp,oosp)\n",
    "            print(oosp)\n",
    "            performance_report(real0,real9,pred)"
   ]
  },
  {
   "cell_type": "code",
   "execution_count": 273,
   "metadata": {},
   "outputs": [
    {
     "name": "stdout",
     "output_type": "stream",
     "text": [
      "1\n",
      "none                    1 mse_r  1.0185 mse_p    0.16 wr  0.4610 wrp    0.17 len  154\n"
     ]
    }
   ],
   "source": [
    "pstart=datetime.date(1995,1,1)\n",
    "pend=datetime.date(2007,12,31)        \n",
    "model='none'\n",
    "for oosp in [1]:\n",
    "    nn=len(tsd.loc[pstart:pend])\n",
    "    for isp in range(1,2,12):#10,pt):\n",
    "        ps=pstart-relativedelta(months=isp*1-1)\n",
    "        tsdd=tsd.loc[ps:pend]\n",
    "        if (len(tsdd)-isp==nn) or (len(tsdd)-isp==nn-1):\n",
    "            real0,real9,pred=backtest(tsdd,isp,oosp)\n",
    "            print(oosp)\n",
    "            performance_report(real0,real9,pred)"
   ]
  },
  {
   "cell_type": "code",
   "execution_count": 274,
   "metadata": {},
   "outputs": [
    {
     "name": "stdout",
     "output_type": "stream",
     "text": [
      "6\n",
      "none                    1 mse_r  0.9828 mse_p    0.07 wr  0.4818 wrp    0.33 len  137\n"
     ]
    }
   ],
   "source": [
    "pstart=datetime.date(2008,1,1)\n",
    "pend=datetime.date(2020,12,31)        \n",
    "model='none'\n",
    "for oosp in [6]:\n",
    "    nn=len(tsd.loc[pstart:pend])\n",
    "    for isp in range(1,2,12):#10,pt):\n",
    "        ps=pstart-relativedelta(months=isp*1-1)\n",
    "        tsdd=tsd.loc[ps:pend]\n",
    "        if (len(tsdd)-isp==nn) or (len(tsdd)-isp==nn-1):\n",
    "            real0,real9,pred=backtest(tsdd,isp,oosp)\n",
    "            print(oosp)\n",
    "            performance_report(real0,real9,pred)"
   ]
  },
  {
   "cell_type": "markdown",
   "metadata": {},
   "source": [
    "# irs 12m"
   ]
  },
  {
   "cell_type": "code",
   "execution_count": 275,
   "metadata": {},
   "outputs": [
    {
     "name": "stdout",
     "output_type": "stream",
     "text": [
      "                ee      r1      r2\n",
      "DATE                              \n",
      "1986-01-01  192.30  8.2500  6.1563\n",
      "1986-02-01  180.55  7.9375  5.6250\n",
      "1986-03-01  177.60  7.4375  5.1875\n",
      "1986-04-01  167.60  6.9375  4.7500\n",
      "1986-05-01  174.50  7.3750  5.0000\n",
      "                ee       r1       r2\n",
      "DATE                                \n",
      "2019-08-01  106.30  1.97400  0.03600\n",
      "2019-09-01  108.11  2.03213  0.02550\n",
      "2019-10-01  108.09  1.95538  0.04383\n",
      "2019-11-01  109.47  1.95213  0.10050\n",
      "2019-12-01  108.67  1.99625  0.10483\n"
     ]
    }
   ],
   "source": [
    "r1 =web.DataReader(\"USD12MD156N\",\"fred\",start,end)#q\n",
    "r2 =web.DataReader(\"JPY12MD156N\",\"fred\",start,end)#q\n",
    "rr1=r1.copy().resample('MS').last()\n",
    "rr2=r2.copy().resample('MS').last()\n",
    "tsd=pd.concat([ee,rr1,rr2],axis=1)#.dropna(how='any')\n",
    "tsd.columns=['ee','r1','r2']\n",
    "print(tsd.head())\n",
    "print(tsd.tail())"
   ]
  },
  {
   "cell_type": "code",
   "execution_count": 276,
   "metadata": {},
   "outputs": [
    {
     "name": "stdout",
     "output_type": "stream",
     "text": [
      "12\n",
      "none                    1 mse_r  0.9957 mse_p    0.47 wr  0.5579 wrp    0.13 len   95\n"
     ]
    }
   ],
   "source": [
    "pstart=datetime.date(1986,1,1)\n",
    "pend=datetime.date(1994,12,31)        \n",
    "model='none'\n",
    "for oosp in [12]:\n",
    "    nn=len(tsd.loc[pstart:pend])\n",
    "    for isp in range(1,2,12):#10,pt):\n",
    "        ps=pstart-relativedelta(months=isp*1-1)\n",
    "        tsdd=tsd.loc[ps:pend]\n",
    "        if (len(tsdd)-isp==nn) or (len(tsdd)-isp==nn-1):\n",
    "            real0,real9,pred=backtest(tsdd,isp,oosp)\n",
    "            print(oosp)\n",
    "            performance_report(real0,real9,pred)"
   ]
  },
  {
   "cell_type": "code",
   "execution_count": 277,
   "metadata": {},
   "outputs": [
    {
     "name": "stdout",
     "output_type": "stream",
     "text": [
      "1\n",
      "none                    1 mse_r  1.0186 mse_p    0.16 wr  0.4610 wrp    0.17 len  154\n"
     ]
    }
   ],
   "source": [
    "pstart=datetime.date(1995,1,1)\n",
    "pend=datetime.date(2007,12,31)        \n",
    "model='none'\n",
    "for oosp in [1]:\n",
    "    nn=len(tsd.loc[pstart:pend])\n",
    "    for isp in range(1,2,12):#10,pt):\n",
    "        ps=pstart-relativedelta(months=isp*1-1)\n",
    "        tsdd=tsd.loc[ps:pend]\n",
    "        if (len(tsdd)-isp==nn) or (len(tsdd)-isp==nn-1):\n",
    "            real0,real9,pred=backtest(tsdd,isp,oosp)\n",
    "            print(oosp)\n",
    "            performance_report(real0,real9,pred)"
   ]
  },
  {
   "cell_type": "code",
   "execution_count": 278,
   "metadata": {},
   "outputs": [
    {
     "name": "stdout",
     "output_type": "stream",
     "text": [
      "12\n",
      "none                    1 mse_r  0.9776 mse_p    0.05 wr  0.5573 wrp    0.10 len  131\n"
     ]
    }
   ],
   "source": [
    "pstart=datetime.date(2008,1,1)\n",
    "pend=datetime.date(2020,12,31)        \n",
    "model='none'\n",
    "for oosp in [12]:\n",
    "    nn=len(tsd.loc[pstart:pend])\n",
    "    for isp in range(1,2,12):#10,pt):\n",
    "        ps=pstart-relativedelta(months=isp*1-1)\n",
    "        tsdd=tsd.loc[ps:pend]\n",
    "        if (len(tsdd)-isp==nn) or (len(tsdd)-isp==nn-1):\n",
    "            real0,real9,pred=backtest(tsdd,isp,oosp)\n",
    "            print(oosp)\n",
    "            performance_report(real0,real9,pred)"
   ]
  },
  {
   "cell_type": "code",
   "execution_count": null,
   "metadata": {},
   "outputs": [],
   "source": []
  }
 ],
 "metadata": {
  "anaconda-cloud": {},
  "kernelspec": {
   "display_name": "Python 3",
   "language": "python",
   "name": "python3"
  },
  "language_info": {
   "codemirror_mode": {
    "name": "ipython",
    "version": 3
   },
   "file_extension": ".py",
   "mimetype": "text/x-python",
   "name": "python",
   "nbconvert_exporter": "python",
   "pygments_lexer": "ipython3",
   "version": "3.7.3"
  }
 },
 "nbformat": 4,
 "nbformat_minor": 1
}
